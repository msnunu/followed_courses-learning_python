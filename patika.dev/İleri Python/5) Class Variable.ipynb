{
 "cells": [
  {
   "cell_type": "markdown",
   "id": "1c9a0f99",
   "metadata": {},
   "source": [
    "## Class Variable"
   ]
  },
  {
   "cell_type": "code",
   "execution_count": 1,
   "id": "677869da",
   "metadata": {},
   "outputs": [],
   "source": [
    "# INSTANCE VARIABLE : Class'tan yaratılan objelerin kendilerine özgü değişkenleri\n",
    "## Aşağıdaki örnekteki name, last, age, pay gibi "
   ]
  },
  {
   "cell_type": "code",
   "execution_count": 2,
   "id": "c32cb755",
   "metadata": {},
   "outputs": [],
   "source": [
    "class Employee :\n",
    "    def __init__(self, name, last, age, pay) :\n",
    "        self.name = name\n",
    "        self.last = last\n",
    "        self.age = age\n",
    "        self.pay = pay"
   ]
  },
  {
   "cell_type": "code",
   "execution_count": 3,
   "id": "29bdf32a",
   "metadata": {},
   "outputs": [],
   "source": [
    "emp_1 = Employee(\"James\", \"Hughes\", 32, 5000)\n",
    "emp_2 = Employee(\"Charlie\", \"Brown\", 22, 3000)"
   ]
  },
  {
   "cell_type": "code",
   "execution_count": 4,
   "id": "43bfcbdb",
   "metadata": {},
   "outputs": [],
   "source": [
    "# CLASS VARIABLE : Class'tan yaratılan tüm objelerde paylaşılan değişkenler\n",
    "## Instance variable her obje için farklı olabilir; ama class variable hepsi için aynı olmak zorunda"
   ]
  },
  {
   "cell_type": "markdown",
   "id": "5f421635",
   "metadata": {},
   "source": [
    "#### Tüm çalışanlar arasında hangi verinin paylaşılmasını isteyebiliriz? Mesela şirket herkese aynı yüzdelik zamn uyguluyorsa bunun yüzdesini class variable'ı olarak tutabilirim."
   ]
  },
  {
   "cell_type": "code",
   "execution_count": 27,
   "id": "6e3513d5",
   "metadata": {},
   "outputs": [],
   "source": [
    "class Employee :\n",
    "    \n",
    "    raise_percent = 1.05\n",
    "    \n",
    "    def __init__(self, name, last, age, pay) :\n",
    "        self.name = name\n",
    "        self.last = last\n",
    "        self.age = age\n",
    "        self.pay = pay\n",
    "    \n",
    "        \n",
    "    def apply_raise(self) :\n",
    "        self.pay = self.pay * raise_percent"
   ]
  },
  {
   "cell_type": "code",
   "execution_count": 28,
   "id": "966726d3",
   "metadata": {},
   "outputs": [],
   "source": [
    "emp_1 = Employee(\"James\", \"Hughes\", 32, 5000)"
   ]
  },
  {
   "cell_type": "code",
   "execution_count": 29,
   "id": "26869f0f",
   "metadata": {},
   "outputs": [
    {
     "data": {
      "text/plain": [
       "1.05"
      ]
     },
     "execution_count": 29,
     "metadata": {},
     "output_type": "execute_result"
    }
   ],
   "source": [
    "emp_1.raise_percent"
   ]
  },
  {
   "cell_type": "code",
   "execution_count": 30,
   "id": "bba9b6d3",
   "metadata": {},
   "outputs": [
    {
     "data": {
      "text/plain": [
       "1.05"
      ]
     },
     "execution_count": 30,
     "metadata": {},
     "output_type": "execute_result"
    }
   ],
   "source": [
    "Employee.raise_percent"
   ]
  },
  {
   "cell_type": "code",
   "execution_count": 31,
   "id": "e1b9a1bd",
   "metadata": {},
   "outputs": [
    {
     "ename": "NameError",
     "evalue": "name 'raise_percent' is not defined",
     "output_type": "error",
     "traceback": [
      "\u001b[1;31m---------------------------------------------------------------------------\u001b[0m",
      "\u001b[1;31mNameError\u001b[0m                                 Traceback (most recent call last)",
      "\u001b[1;32m<ipython-input-31-012e8e13b01b>\u001b[0m in \u001b[0;36m<module>\u001b[1;34m\u001b[0m\n\u001b[1;32m----> 1\u001b[1;33m \u001b[0memp_1\u001b[0m\u001b[1;33m.\u001b[0m\u001b[0mapply_raise\u001b[0m\u001b[1;33m(\u001b[0m \u001b[1;33m)\u001b[0m\u001b[1;33m\u001b[0m\u001b[1;33m\u001b[0m\u001b[0m\n\u001b[0m",
      "\u001b[1;32m<ipython-input-27-0631c30231ba>\u001b[0m in \u001b[0;36mapply_raise\u001b[1;34m(self)\u001b[0m\n\u001b[0;32m     11\u001b[0m \u001b[1;33m\u001b[0m\u001b[0m\n\u001b[0;32m     12\u001b[0m     \u001b[1;32mdef\u001b[0m \u001b[0mapply_raise\u001b[0m\u001b[1;33m(\u001b[0m\u001b[0mself\u001b[0m\u001b[1;33m)\u001b[0m \u001b[1;33m:\u001b[0m\u001b[1;33m\u001b[0m\u001b[1;33m\u001b[0m\u001b[0m\n\u001b[1;32m---> 13\u001b[1;33m         \u001b[0mself\u001b[0m\u001b[1;33m.\u001b[0m\u001b[0mpay\u001b[0m \u001b[1;33m=\u001b[0m \u001b[0mself\u001b[0m\u001b[1;33m.\u001b[0m\u001b[0mpay\u001b[0m \u001b[1;33m*\u001b[0m \u001b[0mraise_percent\u001b[0m\u001b[1;33m\u001b[0m\u001b[1;33m\u001b[0m\u001b[0m\n\u001b[0m",
      "\u001b[1;31mNameError\u001b[0m: name 'raise_percent' is not defined"
     ]
    }
   ],
   "source": [
    "emp_1.apply_raise( )"
   ]
  },
  {
   "cell_type": "code",
   "execution_count": 44,
   "id": "1dd87bf1",
   "metadata": {},
   "outputs": [],
   "source": [
    "class Employee :\n",
    "    \n",
    "    raise_percent = 1.05\n",
    "    \n",
    "    def __init__(self, name, last, age, pay) :\n",
    "        self.name = name\n",
    "        self.last = last\n",
    "        self.age = age\n",
    "        self.pay = pay\n",
    "    \n",
    "        \n",
    "    def apply_raise(self) :\n",
    "        self.pay = self.pay * Employee.raise_percent\n",
    "        return self.pay"
   ]
  },
  {
   "cell_type": "code",
   "execution_count": 45,
   "id": "76330798",
   "metadata": {},
   "outputs": [],
   "source": [
    "emp_1 = Employee(\"James\", \"Hughes\", 32, 5000)"
   ]
  },
  {
   "cell_type": "code",
   "execution_count": 46,
   "id": "2a02da51",
   "metadata": {},
   "outputs": [
    {
     "data": {
      "text/plain": [
       "5000"
      ]
     },
     "execution_count": 46,
     "metadata": {},
     "output_type": "execute_result"
    }
   ],
   "source": [
    "emp_1.pay"
   ]
  },
  {
   "cell_type": "code",
   "execution_count": 47,
   "id": "763266b1",
   "metadata": {},
   "outputs": [
    {
     "data": {
      "text/plain": [
       "5250.0"
      ]
     },
     "execution_count": 47,
     "metadata": {},
     "output_type": "execute_result"
    }
   ],
   "source": [
    "emp_1.apply_raise( )"
   ]
  },
  {
   "cell_type": "code",
   "execution_count": 48,
   "id": "94cbbd86",
   "metadata": {},
   "outputs": [],
   "source": [
    "emp_2 = Employee(\"Charlie\", \"Brown\", 22, 3000)"
   ]
  },
  {
   "cell_type": "code",
   "execution_count": 53,
   "id": "d20f0c4e",
   "metadata": {},
   "outputs": [
    {
     "data": {
      "text/plain": [
       "3307.5"
      ]
     },
     "execution_count": 53,
     "metadata": {},
     "output_type": "execute_result"
    }
   ],
   "source": [
    "emp_2.apply_raise( ) # iki kere güncellettim maaşı"
   ]
  },
  {
   "cell_type": "code",
   "execution_count": 54,
   "id": "b911bd15",
   "metadata": {},
   "outputs": [],
   "source": [
    "# emp_1.raise_percent --> ilk olarak bu instance a bakar, eğer bulamazsa class variable olarak var mı diye bakar"
   ]
  },
  {
   "cell_type": "code",
   "execution_count": 56,
   "id": "aebd665c",
   "metadata": {},
   "outputs": [
    {
     "name": "stdout",
     "output_type": "stream",
     "text": [
      "{'name': 'James', 'last': 'Hughes', 'age': 32, 'pay': 5250.0}\n"
     ]
    }
   ],
   "source": [
    "print(emp_1.__dict__)  # objenin attribute larını döndürür (instance variable ları döndürevek emp_1 için)"
   ]
  },
  {
   "cell_type": "code",
   "execution_count": 57,
   "id": "93a7abf1",
   "metadata": {},
   "outputs": [
    {
     "name": "stdout",
     "output_type": "stream",
     "text": [
      "{'__module__': '__main__', 'raise_percent': 1.05, '__init__': <function Employee.__init__ at 0x000002C6525091F0>, 'apply_raise': <function Employee.apply_raise at 0x000002C6525090D0>, '__dict__': <attribute '__dict__' of 'Employee' objects>, '__weakref__': <attribute '__weakref__' of 'Employee' objects>, '__doc__': None}\n"
     ]
    }
   ],
   "source": [
    "print(Employee.__dict__) # class ın attribute larını döndürür (class variable ları)"
   ]
  },
  {
   "cell_type": "code",
   "execution_count": 58,
   "id": "7d2cc5b0",
   "metadata": {},
   "outputs": [],
   "source": [
    "emp_1.experience = 10"
   ]
  },
  {
   "cell_type": "code",
   "execution_count": 59,
   "id": "3a71d885",
   "metadata": {},
   "outputs": [
    {
     "name": "stdout",
     "output_type": "stream",
     "text": [
      "{'name': 'James', 'last': 'Hughes', 'age': 32, 'pay': 5250.0, 'experience': 10}\n"
     ]
    }
   ],
   "source": [
    "print(emp_1.__dict__)"
   ]
  },
  {
   "cell_type": "code",
   "execution_count": 60,
   "id": "e3727b26",
   "metadata": {},
   "outputs": [
    {
     "name": "stdout",
     "output_type": "stream",
     "text": [
      "{'name': 'Charlie', 'last': 'Brown', 'age': 22, 'pay': 3307.5}\n"
     ]
    }
   ],
   "source": [
    "print(emp_2.__dict__)"
   ]
  },
  {
   "cell_type": "code",
   "execution_count": 61,
   "id": "358ae793",
   "metadata": {},
   "outputs": [
    {
     "name": "stdout",
     "output_type": "stream",
     "text": [
      "1.05\n",
      "1.05\n",
      "1.05\n"
     ]
    }
   ],
   "source": [
    "print(emp_1.raise_percent)\n",
    "print(emp_2.raise_percent)\n",
    "print(Employee.raise_percent)"
   ]
  },
  {
   "cell_type": "markdown",
   "id": "0425fd2a",
   "metadata": {},
   "source": [
    "##### # class variable ı CLASS ÜZERİNDEN güncellemek hepsinde günceller"
   ]
  },
  {
   "cell_type": "code",
   "execution_count": 64,
   "id": "2e0215fc",
   "metadata": {},
   "outputs": [],
   "source": [
    "Employee.raise_percent = 1.06"
   ]
  },
  {
   "cell_type": "code",
   "execution_count": 65,
   "id": "847ebbfa",
   "metadata": {},
   "outputs": [
    {
     "name": "stdout",
     "output_type": "stream",
     "text": [
      "1.06\n",
      "1.06\n",
      "1.06\n"
     ]
    }
   ],
   "source": [
    "print(emp_1.raise_percent)\n",
    "print(emp_2.raise_percent)\n",
    "print(Employee.raise_percent)"
   ]
  },
  {
   "cell_type": "markdown",
   "id": "32d5f93b",
   "metadata": {},
   "source": [
    "##### class variable ı INSTANCE ÜZERİNDEN (yani class tan oluşturulmuş bir obje üzerinden) güncellemek=yaratmak sadece o objenin o değerini günceller!"
   ]
  },
  {
   "cell_type": "markdown",
   "id": "068f506d",
   "metadata": {},
   "source": [
    "#### Çünkü normalde kendi üzerinde o attribute olmadığı için class' a bakardı ama bu kendisinde o attribute ı yaratıyor!!!"
   ]
  },
  {
   "cell_type": "code",
   "execution_count": 66,
   "id": "7beabacd",
   "metadata": {},
   "outputs": [],
   "source": [
    "emp_1.raise_percent = 1.07"
   ]
  },
  {
   "cell_type": "code",
   "execution_count": 67,
   "id": "4e22bccc",
   "metadata": {},
   "outputs": [
    {
     "name": "stdout",
     "output_type": "stream",
     "text": [
      "1.07\n",
      "1.06\n",
      "1.06\n"
     ]
    }
   ],
   "source": [
    "print(emp_1.raise_percent)\n",
    "print(emp_2.raise_percent)\n",
    "print(Employee.raise_percent)"
   ]
  },
  {
   "cell_type": "code",
   "execution_count": 68,
   "id": "56dbcf59",
   "metadata": {},
   "outputs": [
    {
     "name": "stdout",
     "output_type": "stream",
     "text": [
      "{'name': 'James', 'last': 'Hughes', 'age': 32, 'pay': 5250.0, 'experience': 10, 'raise_percent': 1.07}\n"
     ]
    }
   ],
   "source": [
    "print(emp_1.__dict__)"
   ]
  },
  {
   "cell_type": "code",
   "execution_count": 69,
   "id": "2aac392a",
   "metadata": {},
   "outputs": [
    {
     "name": "stdout",
     "output_type": "stream",
     "text": [
      "{'name': 'Charlie', 'last': 'Brown', 'age': 22, 'pay': 3307.5}\n"
     ]
    }
   ],
   "source": [
    "print(emp_2.__dict__)"
   ]
  },
  {
   "cell_type": "markdown",
   "id": "8bb01292",
   "metadata": {},
   "source": [
    "## Kaç Tane Çalışan Olduğunu Class Variable' ı olarak Tutmak\n",
    "### Her yeni çalışan geldiğinde toplam çalışanı 1 arttırmak istiyorum.\n"
   ]
  },
  {
   "cell_type": "code",
   "execution_count": 70,
   "id": "105be0d6",
   "metadata": {},
   "outputs": [],
   "source": [
    "class Employee:\n",
    "    \n",
    "    raise_percent = 1.05\n",
    "    num_emp = 0\n",
    "    \n",
    "    def __init__(self, name, last, age, pay) :\n",
    "        self.name = name\n",
    "        self.last = last\n",
    "        self.age = age\n",
    "        self.pay = pay\n",
    "        Employee.num_emp += 1\n",
    "        \n",
    "    def apply_raise(self) :\n",
    "        self.pay = self.pay * self.raise_percent"
   ]
  },
  {
   "cell_type": "code",
   "execution_count": 71,
   "id": "b4e5022b",
   "metadata": {},
   "outputs": [
    {
     "data": {
      "text/plain": [
       "0"
      ]
     },
     "execution_count": 71,
     "metadata": {},
     "output_type": "execute_result"
    }
   ],
   "source": [
    "Employee.num_emp"
   ]
  },
  {
   "cell_type": "code",
   "execution_count": 72,
   "id": "33f763e0",
   "metadata": {},
   "outputs": [],
   "source": [
    "emp_1 = Employee(\"James\", \"Hughes\", 32, 5000)"
   ]
  },
  {
   "cell_type": "code",
   "execution_count": 73,
   "id": "0a639c5a",
   "metadata": {},
   "outputs": [
    {
     "data": {
      "text/plain": [
       "1"
      ]
     },
     "execution_count": 73,
     "metadata": {},
     "output_type": "execute_result"
    }
   ],
   "source": [
    "Employee.num_emp"
   ]
  },
  {
   "cell_type": "code",
   "execution_count": 74,
   "id": "b0d49940",
   "metadata": {},
   "outputs": [],
   "source": [
    "emp_2 = Employee(\"Charlie\", \"Brown\", 22, 3000)"
   ]
  },
  {
   "cell_type": "code",
   "execution_count": 75,
   "id": "0d09b601",
   "metadata": {},
   "outputs": [
    {
     "data": {
      "text/plain": [
       "2"
      ]
     },
     "execution_count": 75,
     "metadata": {},
     "output_type": "execute_result"
    }
   ],
   "source": [
    "Employee.num_emp"
   ]
  },
  {
   "cell_type": "code",
   "execution_count": null,
   "id": "16389801",
   "metadata": {},
   "outputs": [],
   "source": []
  }
 ],
 "metadata": {
  "kernelspec": {
   "display_name": "Python 3",
   "language": "python",
   "name": "python3"
  },
  "language_info": {
   "codemirror_mode": {
    "name": "ipython",
    "version": 3
   },
   "file_extension": ".py",
   "mimetype": "text/x-python",
   "name": "python",
   "nbconvert_exporter": "python",
   "pygments_lexer": "ipython3",
   "version": "3.8.8"
  }
 },
 "nbformat": 4,
 "nbformat_minor": 5
}
