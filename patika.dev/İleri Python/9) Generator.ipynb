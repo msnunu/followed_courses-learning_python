{
 "cells": [
  {
   "cell_type": "code",
   "execution_count": 1,
   "id": "172e91b7",
   "metadata": {},
   "outputs": [],
   "source": [
    "# Diyelim ki elimdeki bir listenin elemanlarının karesini almak istiyorum\n",
    "\n",
    "def square(l) :\n",
    "    res = [ ] # result diye boş bir list oluşturdum\n",
    "    \n",
    "    for e in l :\n",
    "        res.append(e * e)\n",
    "        \n",
    "    return res"
   ]
  },
  {
   "cell_type": "code",
   "execution_count": 2,
   "id": "42ae82af",
   "metadata": {},
   "outputs": [],
   "source": [
    "l = [1, 2, 3]"
   ]
  },
  {
   "cell_type": "code",
   "execution_count": 3,
   "id": "934fa8a3",
   "metadata": {},
   "outputs": [
    {
     "data": {
      "text/plain": [
       "[1, 4, 9]"
      ]
     },
     "execution_count": 3,
     "metadata": {},
     "output_type": "execute_result"
    }
   ],
   "source": [
    "square( l )"
   ]
  },
  {
   "cell_type": "markdown",
   "id": "8f741e37",
   "metadata": {},
   "source": [
    "#### Peki bu değerlier bir anda istemesem de ben sordukça üretip bana döndürse; bunu GENERATOR mantığı ile yapacağız.\n",
    "\n"
   ]
  },
  {
   "cell_type": "code",
   "execution_count": 5,
   "id": "0893e520",
   "metadata": {},
   "outputs": [],
   "source": [
    "def square_generator( l ) :\n",
    "    for e in l :\n",
    "        yield e * e"
   ]
  },
  {
   "cell_type": "code",
   "execution_count": 9,
   "id": "96c4aef2",
   "metadata": {},
   "outputs": [],
   "source": [
    "l = [1, 2 , 3]\n",
    "g = square_generator( l )"
   ]
  },
  {
   "cell_type": "code",
   "execution_count": 10,
   "id": "48b67b20",
   "metadata": {},
   "outputs": [
    {
     "data": {
      "text/plain": [
       "<generator object square_generator at 0x00000210757764A0>"
      ]
     },
     "execution_count": 10,
     "metadata": {},
     "output_type": "execute_result"
    }
   ],
   "source": [
    "g"
   ]
  },
  {
   "cell_type": "code",
   "execution_count": 11,
   "id": "4f3b006a",
   "metadata": {},
   "outputs": [
    {
     "data": {
      "text/plain": [
       "1"
      ]
     },
     "execution_count": 11,
     "metadata": {},
     "output_type": "execute_result"
    }
   ],
   "source": [
    "next( g )"
   ]
  },
  {
   "cell_type": "code",
   "execution_count": 12,
   "id": "f0e94292",
   "metadata": {},
   "outputs": [
    {
     "data": {
      "text/plain": [
       "4"
      ]
     },
     "execution_count": 12,
     "metadata": {},
     "output_type": "execute_result"
    }
   ],
   "source": [
    "next( g )"
   ]
  },
  {
   "cell_type": "code",
   "execution_count": 13,
   "id": "42f03634",
   "metadata": {},
   "outputs": [
    {
     "data": {
      "text/plain": [
       "9"
      ]
     },
     "execution_count": 13,
     "metadata": {},
     "output_type": "execute_result"
    }
   ],
   "source": [
    "next( g )"
   ]
  },
  {
   "cell_type": "code",
   "execution_count": 14,
   "id": "6ff6a9c4",
   "metadata": {},
   "outputs": [
    {
     "ename": "StopIteration",
     "evalue": "",
     "output_type": "error",
     "traceback": [
      "\u001b[1;31m---------------------------------------------------------------------------\u001b[0m",
      "\u001b[1;31mStopIteration\u001b[0m                             Traceback (most recent call last)",
      "\u001b[1;32m<ipython-input-14-ce18675dfa5d>\u001b[0m in \u001b[0;36m<module>\u001b[1;34m\u001b[0m\n\u001b[1;32m----> 1\u001b[1;33m \u001b[0mnext\u001b[0m\u001b[1;33m(\u001b[0m \u001b[0mg\u001b[0m \u001b[1;33m)\u001b[0m\u001b[1;33m\u001b[0m\u001b[1;33m\u001b[0m\u001b[0m\n\u001b[0m",
      "\u001b[1;31mStopIteration\u001b[0m: "
     ]
    }
   ],
   "source": [
    "next( g )"
   ]
  },
  {
   "cell_type": "markdown",
   "id": "aca9909f",
   "metadata": {},
   "source": [
    "#### Generator' lar bütün cevabı hafızada tutmazlar, biz sordukça değeri döndürürler.\n",
    "#### Generator' lar ITERATOR' dır. next() ile sonraki değere erişiriz."
   ]
  },
  {
   "cell_type": "code",
   "execution_count": 15,
   "id": "e0e95aa0",
   "metadata": {},
   "outputs": [],
   "source": [
    "# exhaust oldu. Bir daha baştan başlamak istiyorsam bir daha yaratmam lazım\n",
    "for res in g :\n",
    "    print( res )"
   ]
  },
  {
   "cell_type": "code",
   "execution_count": 23,
   "id": "cd9b1111",
   "metadata": {},
   "outputs": [],
   "source": [
    "g = square_generator( l )"
   ]
  },
  {
   "cell_type": "code",
   "execution_count": 24,
   "id": "4791dbb3",
   "metadata": {},
   "outputs": [
    {
     "name": "stdout",
     "output_type": "stream",
     "text": [
      "1\n",
      "4\n",
      "9\n"
     ]
    }
   ],
   "source": [
    "for res in g :\n",
    "    print( res )  # değerleri arasında iterasyonnu for döngüsü ile de yapabilirim"
   ]
  },
  {
   "cell_type": "code",
   "execution_count": 26,
   "id": "9aac78e6",
   "metadata": {},
   "outputs": [
    {
     "ename": "StopIteration",
     "evalue": "",
     "output_type": "error",
     "traceback": [
      "\u001b[1;31m---------------------------------------------------------------------------\u001b[0m",
      "\u001b[1;31mStopIteration\u001b[0m                             Traceback (most recent call last)",
      "\u001b[1;32m<ipython-input-26-470c4668bcee>\u001b[0m in \u001b[0;36m<module>\u001b[1;34m\u001b[0m\n\u001b[1;32m----> 1\u001b[1;33m \u001b[0mnext\u001b[0m\u001b[1;33m(\u001b[0m \u001b[0mg\u001b[0m \u001b[1;33m)\u001b[0m  \u001b[1;31m#çünkü for döngüsü zaten tüm değerleri döndürdü ve exhaust oldu bile\u001b[0m\u001b[1;33m\u001b[0m\u001b[1;33m\u001b[0m\u001b[0m\n\u001b[0m",
      "\u001b[1;31mStopIteration\u001b[0m: "
     ]
    }
   ],
   "source": [
    "next( g )  #çünkü for döngüsü zaten tüm değerleri döndürdü ve exhaust oldu bile"
   ]
  },
  {
   "cell_type": "markdown",
   "id": "30e7394d",
   "metadata": {},
   "source": [
    "## List Comprehension Oluşturur Gibi Generator Oluşturma"
   ]
  },
  {
   "cell_type": "code",
   "execution_count": 27,
   "id": "6abb9951",
   "metadata": {},
   "outputs": [],
   "source": [
    "l = [ x * x for x  in [1, 2, 3, 4, 5] ]"
   ]
  },
  {
   "cell_type": "code",
   "execution_count": 28,
   "id": "ff6e33ab",
   "metadata": {},
   "outputs": [
    {
     "data": {
      "text/plain": [
       "[1, 4, 9, 16, 25]"
      ]
     },
     "execution_count": 28,
     "metadata": {},
     "output_type": "execute_result"
    }
   ],
   "source": [
    "l"
   ]
  },
  {
   "cell_type": "code",
   "execution_count": 33,
   "id": "fdca6470",
   "metadata": {},
   "outputs": [],
   "source": [
    "g = ( x * x for x  in [1, 2, 3, 4, 5] )"
   ]
  },
  {
   "cell_type": "code",
   "execution_count": 34,
   "id": "2fef4ccb",
   "metadata": {},
   "outputs": [
    {
     "data": {
      "text/plain": [
       "<generator object <genexpr> at 0x0000021075DBC900>"
      ]
     },
     "execution_count": 34,
     "metadata": {},
     "output_type": "execute_result"
    }
   ],
   "source": [
    "g"
   ]
  },
  {
   "cell_type": "code",
   "execution_count": 35,
   "id": "55700f58",
   "metadata": {},
   "outputs": [
    {
     "data": {
      "text/plain": [
       "1"
      ]
     },
     "execution_count": 35,
     "metadata": {},
     "output_type": "execute_result"
    }
   ],
   "source": [
    "next( g )"
   ]
  },
  {
   "cell_type": "code",
   "execution_count": 36,
   "id": "5d789684",
   "metadata": {},
   "outputs": [
    {
     "name": "stdout",
     "output_type": "stream",
     "text": [
      "4\n",
      "9\n",
      "16\n",
      "25\n"
     ]
    }
   ],
   "source": [
    "# It starts from 2*2, because we wrote next( g ) before and since it remembers the state it started at 2\n",
    "\n",
    "for e in g :\n",
    "    print(e)"
   ]
  },
  {
   "cell_type": "markdown",
   "id": "5e749f58",
   "metadata": {},
   "source": [
    "### ITERATOR STATE i HATIRLIYOR"
   ]
  },
  {
   "cell_type": "code",
   "execution_count": null,
   "id": "fabc05ce",
   "metadata": {},
   "outputs": [],
   "source": []
  },
  {
   "cell_type": "markdown",
   "id": "a4b932f2",
   "metadata": {},
   "source": [
    "### Generator' ı Liste Dönüştürme"
   ]
  },
  {
   "cell_type": "code",
   "execution_count": 37,
   "id": "6da78304",
   "metadata": {},
   "outputs": [],
   "source": [
    "g = ( x * x for x in [1, 2, 3, 4, 5] )"
   ]
  },
  {
   "cell_type": "code",
   "execution_count": 40,
   "id": "172c460c",
   "metadata": {},
   "outputs": [
    {
     "data": {
      "text/plain": [
       "9"
      ]
     },
     "execution_count": 40,
     "metadata": {},
     "output_type": "execute_result"
    }
   ],
   "source": [
    "next( g )"
   ]
  },
  {
   "cell_type": "code",
   "execution_count": 46,
   "id": "01e4efb5",
   "metadata": {},
   "outputs": [],
   "source": [
    "g = ( x * x for x in [1, 2, 3, 4, 5] )"
   ]
  },
  {
   "cell_type": "code",
   "execution_count": 47,
   "id": "44bf4021",
   "metadata": {},
   "outputs": [
    {
     "data": {
      "text/plain": [
       "[1, 4, 9, 16, 25]"
      ]
     },
     "execution_count": 47,
     "metadata": {},
     "output_type": "execute_result"
    }
   ],
   "source": [
    "list( g )   # exhaust olacak"
   ]
  },
  {
   "cell_type": "code",
   "execution_count": 48,
   "id": "0d9f26d9",
   "metadata": {},
   "outputs": [
    {
     "ename": "StopIteration",
     "evalue": "",
     "output_type": "error",
     "traceback": [
      "\u001b[1;31m---------------------------------------------------------------------------\u001b[0m",
      "\u001b[1;31mStopIteration\u001b[0m                             Traceback (most recent call last)",
      "\u001b[1;32m<ipython-input-48-ce18675dfa5d>\u001b[0m in \u001b[0;36m<module>\u001b[1;34m\u001b[0m\n\u001b[1;32m----> 1\u001b[1;33m \u001b[0mnext\u001b[0m\u001b[1;33m(\u001b[0m \u001b[0mg\u001b[0m \u001b[1;33m)\u001b[0m\u001b[1;33m\u001b[0m\u001b[1;33m\u001b[0m\u001b[0m\n\u001b[0m",
      "\u001b[1;31mStopIteration\u001b[0m: "
     ]
    }
   ],
   "source": [
    "next( g )"
   ]
  },
  {
   "cell_type": "code",
   "execution_count": 49,
   "id": "448268d7",
   "metadata": {},
   "outputs": [],
   "source": [
    "# Generators \n",
    "## Kısa yoldan iterator yaratmamızı sağlar.\n",
    "###Uğraştığımız veri büyüdüğünde hepsini bir anda hafızada tutmaya çalışmak çok yer kaplayabilir.\n",
    "### Generator lar istendiğinde elemanları döndürdükleri için bu hafıza sorununa iyi gelebilirler.\n",
    "#### list( generator ) yaptığımız zaman bu özelliğini kaybeder"
   ]
  },
  {
   "cell_type": "markdown",
   "id": "3ef63fc7",
   "metadata": {},
   "source": [
    "### range() benzeri fonk oluşturma"
   ]
  },
  {
   "cell_type": "code",
   "execution_count": 62,
   "id": "cc82e3e5",
   "metadata": {},
   "outputs": [],
   "source": [
    "def range_generator(start, end, step) :\n",
    "    current = start\n",
    "    \n",
    "    while current < end :\n",
    "        yield current\n",
    "        current += step"
   ]
  },
  {
   "cell_type": "code",
   "execution_count": 63,
   "id": "8baf74dc",
   "metadata": {},
   "outputs": [],
   "source": [
    "r = range_generator(1, 20, 3)"
   ]
  },
  {
   "cell_type": "code",
   "execution_count": 64,
   "id": "86bd4821",
   "metadata": {},
   "outputs": [
    {
     "data": {
      "text/plain": [
       "<generator object range_generator at 0x00000210760490B0>"
      ]
     },
     "execution_count": 64,
     "metadata": {},
     "output_type": "execute_result"
    }
   ],
   "source": [
    "r"
   ]
  },
  {
   "cell_type": "code",
   "execution_count": 65,
   "id": "fb59a7db",
   "metadata": {},
   "outputs": [
    {
     "data": {
      "text/plain": [
       "1"
      ]
     },
     "execution_count": 65,
     "metadata": {},
     "output_type": "execute_result"
    }
   ],
   "source": [
    "next( r )"
   ]
  },
  {
   "cell_type": "code",
   "execution_count": 67,
   "id": "8881c8e4",
   "metadata": {},
   "outputs": [
    {
     "data": {
      "text/plain": [
       "7"
      ]
     },
     "execution_count": 67,
     "metadata": {},
     "output_type": "execute_result"
    }
   ],
   "source": [
    "next( r )"
   ]
  },
  {
   "cell_type": "code",
   "execution_count": 68,
   "id": "83c2b296",
   "metadata": {},
   "outputs": [],
   "source": [
    "def range_generator(start, end, step) :\n",
    "    current = start\n",
    "    \n",
    "    while current < end :\n",
    "        current += step\n",
    "        yield current"
   ]
  },
  {
   "cell_type": "code",
   "execution_count": 69,
   "id": "01607113",
   "metadata": {},
   "outputs": [],
   "source": [
    "s = range_generator(1, 20, 3)"
   ]
  },
  {
   "cell_type": "code",
   "execution_count": 76,
   "id": "d2a1ca8b",
   "metadata": {},
   "outputs": [
    {
     "data": {
      "text/plain": [
       "22"
      ]
     },
     "execution_count": 76,
     "metadata": {},
     "output_type": "execute_result"
    }
   ],
   "source": [
    "next( s )"
   ]
  },
  {
   "cell_type": "code",
   "execution_count": null,
   "id": "ff131d7e",
   "metadata": {},
   "outputs": [],
   "source": []
  }
 ],
 "metadata": {
  "kernelspec": {
   "display_name": "Python 3",
   "language": "python",
   "name": "python3"
  },
  "language_info": {
   "codemirror_mode": {
    "name": "ipython",
    "version": 3
   },
   "file_extension": ".py",
   "mimetype": "text/x-python",
   "name": "python",
   "nbconvert_exporter": "python",
   "pygments_lexer": "ipython3",
   "version": "3.8.8"
  }
 },
 "nbformat": 4,
 "nbformat_minor": 5
}
