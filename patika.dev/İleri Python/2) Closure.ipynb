{
 "cells": [
  {
   "cell_type": "code",
   "execution_count": 1,
   "id": "caae2d8a",
   "metadata": {},
   "outputs": [],
   "source": [
    "# Outer(dış) fonksiyonu çağırdıktan sonra bile \n",
    "# inner function ın outer function scope una erişebilmesi"
   ]
  },
  {
   "cell_type": "code",
   "execution_count": 15,
   "id": "6bf750b5",
   "metadata": {},
   "outputs": [],
   "source": [
    "def outer( ) : \n",
    "    msg = \"Hey\"\n",
    "    \n",
    "    def inner( ) :\n",
    "        print(msg)\n",
    "        \n",
    "    return inner()"
   ]
  },
  {
   "cell_type": "code",
   "execution_count": 19,
   "id": "0a02ba85",
   "metadata": {},
   "outputs": [
    {
     "name": "stdout",
     "output_type": "stream",
     "text": [
      "Hey\n"
     ]
    }
   ],
   "source": [
    "g = outer( )\n",
    "g"
   ]
  },
  {
   "cell_type": "code",
   "execution_count": 20,
   "id": "3e8c6c86",
   "metadata": {},
   "outputs": [],
   "source": [
    "# Bu örnek daha önce yaptıklarımızdan farklı değil\n",
    "# inner function enclosing scope a erişip msg değişkenini bastırabildi"
   ]
  },
  {
   "cell_type": "code",
   "execution_count": 21,
   "id": "ca909600",
   "metadata": {},
   "outputs": [],
   "source": [
    "# allttakinde return inner obje gibi döndürüyor; üstte return inner() function call yapıyor"
   ]
  },
  {
   "cell_type": "code",
   "execution_count": 22,
   "id": "9d8b9462",
   "metadata": {},
   "outputs": [],
   "source": [
    "def outer( ) : \n",
    "    msg = \"Hey\"\n",
    "    \n",
    "    def inner( ) :\n",
    "        print(msg)\n",
    "    \n",
    "    return inner"
   ]
  },
  {
   "cell_type": "code",
   "execution_count": 23,
   "id": "a9243d05",
   "metadata": {},
   "outputs": [],
   "source": [
    "f = outer( )"
   ]
  },
  {
   "cell_type": "code",
   "execution_count": 24,
   "id": "54d1360c",
   "metadata": {},
   "outputs": [
    {
     "data": {
      "text/plain": [
       "<function __main__.outer.<locals>.inner()>"
      ]
     },
     "execution_count": 24,
     "metadata": {},
     "output_type": "execute_result"
    }
   ],
   "source": [
    "f"
   ]
  },
  {
   "cell_type": "code",
   "execution_count": 26,
   "id": "a4b76162",
   "metadata": {},
   "outputs": [],
   "source": [
    "# Şimdi outer func ı çağırmış olduk ve bize içinde tanımlanan inner func ını obje olarak döndürmüş oldu\n",
    "# func call yapmadığım sürece obje olarak kalacak"
   ]
  },
  {
   "cell_type": "code",
   "execution_count": 27,
   "id": "b897651a",
   "metadata": {},
   "outputs": [
    {
     "name": "stdout",
     "output_type": "stream",
     "text": [
      "Hey\n"
     ]
    }
   ],
   "source": [
    "f( )"
   ]
  },
  {
   "cell_type": "code",
   "execution_count": 28,
   "id": "9a8c702e",
   "metadata": {},
   "outputs": [],
   "source": [
    "# burada outer func çağırılmış olsa da onun scope unda tanımlanan değişkene hala erişebiliyoruz"
   ]
  },
  {
   "cell_type": "code",
   "execution_count": 29,
   "id": "c1c544ff",
   "metadata": {},
   "outputs": [],
   "source": [
    "def outer(msg) : \n",
    "    msg = msg \n",
    "    \n",
    "    def inner() : \n",
    "        print(msg)\n",
    "        \n",
    "    return inner"
   ]
  },
  {
   "cell_type": "code",
   "execution_count": 30,
   "id": "c3c1e9ae",
   "metadata": {},
   "outputs": [],
   "source": [
    "hi_f = outer(\"hi\")"
   ]
  },
  {
   "cell_type": "code",
   "execution_count": 31,
   "id": "77cd05ce",
   "metadata": {},
   "outputs": [
    {
     "data": {
      "text/plain": [
       "<function __main__.outer.<locals>.inner()>"
      ]
     },
     "execution_count": 31,
     "metadata": {},
     "output_type": "execute_result"
    }
   ],
   "source": [
    "hi_f"
   ]
  },
  {
   "cell_type": "code",
   "execution_count": 32,
   "id": "838cf84f",
   "metadata": {},
   "outputs": [
    {
     "name": "stdout",
     "output_type": "stream",
     "text": [
      "hi\n"
     ]
    }
   ],
   "source": [
    "hi_f()"
   ]
  },
  {
   "cell_type": "code",
   "execution_count": 33,
   "id": "3991d4fc",
   "metadata": {},
   "outputs": [],
   "source": [
    "hey_f = outer(\"hey\")"
   ]
  },
  {
   "cell_type": "code",
   "execution_count": 34,
   "id": "a6f0db53",
   "metadata": {},
   "outputs": [
    {
     "name": "stdout",
     "output_type": "stream",
     "text": [
      "hey\n"
     ]
    }
   ],
   "source": [
    "hey_f()"
   ]
  },
  {
   "cell_type": "markdown",
   "id": "f3d268e2",
   "metadata": {},
   "source": [
    "## içteki fonksiyonların dıştaki fonkiyona execute edildikten sonra bile erişebilmesine closure denir."
   ]
  },
  {
   "cell_type": "code",
   "execution_count": null,
   "id": "893686de",
   "metadata": {},
   "outputs": [],
   "source": []
  }
 ],
 "metadata": {
  "kernelspec": {
   "display_name": "Python 3",
   "language": "python",
   "name": "python3"
  },
  "language_info": {
   "codemirror_mode": {
    "name": "ipython",
    "version": 3
   },
   "file_extension": ".py",
   "mimetype": "text/x-python",
   "name": "python",
   "nbconvert_exporter": "python",
   "pygments_lexer": "ipython3",
   "version": "3.8.8"
  }
 },
 "nbformat": 4,
 "nbformat_minor": 5
}
