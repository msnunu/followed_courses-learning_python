{
 "cells": [
  {
   "cell_type": "markdown",
   "id": "3c4c999d",
   "metadata": {},
   "source": [
    "### Inheritance"
   ]
  },
  {
   "cell_type": "markdown",
   "id": "c60bdadd",
   "metadata": {},
   "source": [
    "#### Inheritance belirttiğimiz başka classlardaki method ve attribute' lara erişebilmemizi sağlar.Diyelim ki farklı departmandan çalışanlar yaratmak istiyorum: IT ve HR gibi"
   ]
  },
  {
   "cell_type": "code",
   "execution_count": 1,
   "id": "83c59795",
   "metadata": {},
   "outputs": [],
   "source": [
    "class Employee :\n",
    "    raise_percent = 1.05\n",
    "    num_emp  = 0\n",
    "    \n",
    "    def __init__(self, name, last, age, pay) :\n",
    "        self.name = name\n",
    "        self.last = last\n",
    "        self.age = age\n",
    "        self.pay = pay\n",
    "        Employee.num_emp += 1        \n",
    "        \n",
    "        \n",
    "    def apply_raise(self) :\n",
    "        self.pay = self.pay * self.raise_percent"
   ]
  },
  {
   "cell_type": "markdown",
   "id": "7e672d79",
   "metadata": {},
   "source": [
    "#### Hangi class tan inherit etmek istediğimizi parantez içine yazıyoruz. Inherit ettiğimiz class a PARENT/SUPER CLASS; inherit edene de CHILD/SUBCLASS diyoruz."
   ]
  },
  {
   "cell_type": "code",
   "execution_count": 2,
   "id": "fe13b683",
   "metadata": {},
   "outputs": [],
   "source": [
    "emp_1 = Employee(\"Jake\", \"Hughes\", 22, 5000)"
   ]
  },
  {
   "cell_type": "code",
   "execution_count": 3,
   "id": "4564d82c",
   "metadata": {},
   "outputs": [],
   "source": [
    "emp_2 = Employee(\"Charlie\", \"Brown\", 22, 3000)"
   ]
  },
  {
   "cell_type": "code",
   "execution_count": 4,
   "id": "840cc10d",
   "metadata": {},
   "outputs": [],
   "source": [
    "class IT(Employee) : \n",
    "    pass"
   ]
  },
  {
   "cell_type": "markdown",
   "id": "d4b80a44",
   "metadata": {},
   "source": [
    "#### IT' nin içine hiçbir şey yazmasak da Employee' nin özelliklerine erişimi var. IT' nin içerisinde bulamazsa aradığını, inherit ettiği yere gidip bakacak. IT' nin içerisinde __init__  metodu yok, o yüzden Employee class ına bakacak."
   ]
  },
  {
   "cell_type": "code",
   "execution_count": 5,
   "id": "bd898a26",
   "metadata": {},
   "outputs": [],
   "source": [
    "it_1 = IT(\"James\", \"Hughes\", 32, 5000)"
   ]
  },
  {
   "cell_type": "code",
   "execution_count": 6,
   "id": "7d5a6da0",
   "metadata": {},
   "outputs": [
    {
     "data": {
      "text/plain": [
       "'James'"
      ]
     },
     "execution_count": 6,
     "metadata": {},
     "output_type": "execute_result"
    }
   ],
   "source": [
    "it_1.name"
   ]
  },
  {
   "cell_type": "code",
   "execution_count": 7,
   "id": "9af22cb6",
   "metadata": {},
   "outputs": [
    {
     "name": "stdout",
     "output_type": "stream",
     "text": [
      "Help on class IT in module __main__:\n",
      "\n",
      "class IT(Employee)\n",
      " |  IT(name, last, age, pay)\n",
      " |  \n",
      " |  Method resolution order:\n",
      " |      IT\n",
      " |      Employee\n",
      " |      builtins.object\n",
      " |  \n",
      " |  Methods inherited from Employee:\n",
      " |  \n",
      " |  __init__(self, name, last, age, pay)\n",
      " |      Initialize self.  See help(type(self)) for accurate signature.\n",
      " |  \n",
      " |  apply_raise(self)\n",
      " |  \n",
      " |  ----------------------------------------------------------------------\n",
      " |  Data descriptors inherited from Employee:\n",
      " |  \n",
      " |  __dict__\n",
      " |      dictionary for instance variables (if defined)\n",
      " |  \n",
      " |  __weakref__\n",
      " |      list of weak references to the object (if defined)\n",
      " |  \n",
      " |  ----------------------------------------------------------------------\n",
      " |  Data and other attributes inherited from Employee:\n",
      " |  \n",
      " |  num_emp = 3\n",
      " |  \n",
      " |  raise_percent = 1.05\n",
      "\n"
     ]
    }
   ],
   "source": [
    "help(IT)"
   ]
  },
  {
   "cell_type": "code",
   "execution_count": 8,
   "id": "adf5bd52",
   "metadata": {},
   "outputs": [
    {
     "ename": "NameError",
     "evalue": "name 'self' is not defined",
     "output_type": "error",
     "traceback": [
      "\u001b[1;31m---------------------------------------------------------------------------\u001b[0m",
      "\u001b[1;31mNameError\u001b[0m                                 Traceback (most recent call last)",
      "\u001b[1;32m<ipython-input-8-2312c1158edb>\u001b[0m in \u001b[0;36m<module>\u001b[1;34m\u001b[0m\n\u001b[1;32m----> 1\u001b[1;33m \u001b[0mhelp\u001b[0m\u001b[1;33m(\u001b[0m\u001b[0mtype\u001b[0m\u001b[1;33m(\u001b[0m\u001b[0mself\u001b[0m\u001b[1;33m)\u001b[0m\u001b[1;33m)\u001b[0m\u001b[1;33m\u001b[0m\u001b[1;33m\u001b[0m\u001b[0m\n\u001b[0m",
      "\u001b[1;31mNameError\u001b[0m: name 'self' is not defined"
     ]
    }
   ],
   "source": [
    "help(type(self))"
   ]
  },
  {
   "cell_type": "code",
   "execution_count": 9,
   "id": "308b1306",
   "metadata": {},
   "outputs": [
    {
     "data": {
      "text/plain": [
       "5000"
      ]
     },
     "execution_count": 9,
     "metadata": {},
     "output_type": "execute_result"
    }
   ],
   "source": [
    "it_1.pay"
   ]
  },
  {
   "cell_type": "code",
   "execution_count": 11,
   "id": "be3c7a7e",
   "metadata": {},
   "outputs": [],
   "source": [
    "it_1.apply_raise( )"
   ]
  },
  {
   "cell_type": "code",
   "execution_count": 14,
   "id": "fcdf006d",
   "metadata": {},
   "outputs": [
    {
     "data": {
      "text/plain": [
       "5250.0"
      ]
     },
     "execution_count": 14,
     "metadata": {},
     "output_type": "execute_result"
    }
   ],
   "source": [
    "it_1.pay"
   ]
  },
  {
   "cell_type": "code",
   "execution_count": 13,
   "id": "80d23f3d",
   "metadata": {},
   "outputs": [
    {
     "name": "stdout",
     "output_type": "stream",
     "text": [
      "{'name': 'James', 'last': 'Hughes', 'age': 32, 'pay': 5250.0}\n"
     ]
    }
   ],
   "source": [
    "print(it_1.__dict__)"
   ]
  },
  {
   "cell_type": "code",
   "execution_count": 15,
   "id": "88a5f667",
   "metadata": {},
   "outputs": [],
   "source": [
    "# Diyelim ki IT dekilerin yüzdelik maaş değişimini farklı bir değer olarak belirlemek istiyorum\n",
    "class IT(Employee) :\n",
    "    raise_percent = 1.2"
   ]
  },
  {
   "cell_type": "code",
   "execution_count": 16,
   "id": "9a28cbde",
   "metadata": {},
   "outputs": [],
   "source": [
    "it_3 = IT(\"Dafni\" ,\"Robertson\" , 26, 7000)"
   ]
  },
  {
   "cell_type": "code",
   "execution_count": 17,
   "id": "a58107e2",
   "metadata": {},
   "outputs": [
    {
     "data": {
      "text/plain": [
       "7000"
      ]
     },
     "execution_count": 17,
     "metadata": {},
     "output_type": "execute_result"
    }
   ],
   "source": [
    "it_3.pay"
   ]
  },
  {
   "cell_type": "code",
   "execution_count": 18,
   "id": "869397bb",
   "metadata": {},
   "outputs": [],
   "source": [
    "it_3.apply_raise( )"
   ]
  },
  {
   "cell_type": "code",
   "execution_count": 19,
   "id": "d8ad6e43",
   "metadata": {},
   "outputs": [
    {
     "data": {
      "text/plain": [
       "8400.0"
      ]
     },
     "execution_count": 19,
     "metadata": {},
     "output_type": "execute_result"
    }
   ],
   "source": [
    "it_3.pay"
   ]
  },
  {
   "cell_type": "code",
   "execution_count": 20,
   "id": "59c6f1f9",
   "metadata": {},
   "outputs": [],
   "source": [
    "#  Employee nin raise_percent attribute' unu kullanmak yerine kendisi içinde belirttiğimizi kullanıyor.\n",
    "#Kendi içerisinde bulunabilirse kullanıyor, bulamazsa inherit ettiği yere bakıyor"
   ]
  },
  {
   "cell_type": "code",
   "execution_count": 21,
   "id": "7d316bd5",
   "metadata": {},
   "outputs": [
    {
     "data": {
      "text/plain": [
       "1.2"
      ]
     },
     "execution_count": 21,
     "metadata": {},
     "output_type": "execute_result"
    }
   ],
   "source": [
    "it_3.raise_percent"
   ]
  },
  {
   "cell_type": "markdown",
   "id": "2436cbce",
   "metadata": {},
   "source": [
    "### SUBCLASS' da yapılan değişiklik PARENT CLASS' ı etkilemez!"
   ]
  },
  {
   "cell_type": "code",
   "execution_count": 23,
   "id": "8727a17f",
   "metadata": {},
   "outputs": [
    {
     "data": {
      "text/plain": [
       "1.05"
      ]
     },
     "execution_count": 23,
     "metadata": {},
     "output_type": "execute_result"
    }
   ],
   "source": [
    "Employee.raise_percent"
   ]
  },
  {
   "cell_type": "code",
   "execution_count": 24,
   "id": "33176da3",
   "metadata": {},
   "outputs": [
    {
     "data": {
      "text/plain": [
       "1.2"
      ]
     },
     "execution_count": 24,
     "metadata": {},
     "output_type": "execute_result"
    }
   ],
   "source": [
    "IT.raise_percent"
   ]
  },
  {
   "cell_type": "code",
   "execution_count": 30,
   "id": "f68248f4",
   "metadata": {},
   "outputs": [],
   "source": [
    "# Diyelim ki IT' dekilere yeni bir özellik olarak hangi dili bildiklerini de eklemek istiyorum\n",
    "class IT(Employee) :\n",
    "    # IT önce varsa kendi __init_ ine bakar; eğer yoksa parent class olan Employee nin __init__ ine bakar\n",
    "    def __init__(self, name, last, age, pay, lang) :\n",
    "        self.name = name\n",
    "        self.last = last\n",
    "        self.age = age\n",
    "        self.pay = pay\n",
    "        self.lang = lang"
   ]
  },
  {
   "cell_type": "code",
   "execution_count": 31,
   "id": "83428594",
   "metadata": {},
   "outputs": [],
   "source": [
    "it_3 = IT(\"Dafni\" ,\"Robertson\" , 26, 7000, \"python\")"
   ]
  },
  {
   "cell_type": "code",
   "execution_count": 32,
   "id": "dce33a4b",
   "metadata": {},
   "outputs": [
    {
     "data": {
      "text/plain": [
       "'python'"
      ]
     },
     "execution_count": 32,
     "metadata": {},
     "output_type": "execute_result"
    }
   ],
   "source": [
    "it_3.lang"
   ]
  },
  {
   "cell_type": "code",
   "execution_count": 33,
   "id": "acf105e6",
   "metadata": {},
   "outputs": [],
   "source": [
    "# Bunun yerine şöyle de yapabilirdik:\n",
    "class IT(Employee) :\n",
    "    \n",
    "    raise_percent = 1.2\n",
    "    \n",
    "    def __init__(self, name, last, age, pay, lang) :\n",
    "        super(). __init__(name, last, age, pay)\n",
    "        self.lang = lang"
   ]
  },
  {
   "cell_type": "code",
   "execution_count": 34,
   "id": "6d100595",
   "metadata": {},
   "outputs": [],
   "source": [
    "it_3 = IT(\"Dafni\" ,\"Robertson\" , 26, 7000, \"python\")"
   ]
  },
  {
   "cell_type": "code",
   "execution_count": 35,
   "id": "927bc5d6",
   "metadata": {},
   "outputs": [
    {
     "data": {
      "text/plain": [
       "'python'"
      ]
     },
     "execution_count": 35,
     "metadata": {},
     "output_type": "execute_result"
    }
   ],
   "source": [
    "it_3.lang"
   ]
  },
  {
   "cell_type": "code",
   "execution_count": 41,
   "id": "99655eac",
   "metadata": {},
   "outputs": [],
   "source": [
    "class IK(Employee) :\n",
    "    \n",
    "    raise_percent = 1.3\n",
    "    \n",
    "    def __init__(self, name, last, age, pay, experience) :\n",
    "        super().__init__(name, last, age, pay)\n",
    "        self.experience = experience\n",
    "        \n",
    "    def print_exp(self) :\n",
    "        print(f\"This employee has {self.experience} years pf experience.\")\n",
    "        "
   ]
  },
  {
   "cell_type": "code",
   "execution_count": 42,
   "id": "66f88483",
   "metadata": {},
   "outputs": [],
   "source": [
    "ik_1 = IK(\"Jonna\", \"Jınoltan\", 18, 3000, 3)"
   ]
  },
  {
   "cell_type": "code",
   "execution_count": 43,
   "id": "a265ca6c",
   "metadata": {},
   "outputs": [
    {
     "data": {
      "text/plain": [
       "3"
      ]
     },
     "execution_count": 43,
     "metadata": {},
     "output_type": "execute_result"
    }
   ],
   "source": [
    "ik_1.experience"
   ]
  },
  {
   "cell_type": "code",
   "execution_count": 44,
   "id": "484c382c",
   "metadata": {},
   "outputs": [
    {
     "name": "stdout",
     "output_type": "stream",
     "text": [
      "This employee has 3 years pf experience.\n"
     ]
    }
   ],
   "source": [
    "ik_1.print_exp()"
   ]
  },
  {
   "cell_type": "markdown",
   "id": "eb6ecf06",
   "metadata": {},
   "source": [
    "### isinstance & issubclass"
   ]
  },
  {
   "cell_type": "code",
   "execution_count": 45,
   "id": "9ea0b658",
   "metadata": {},
   "outputs": [
    {
     "data": {
      "text/plain": [
       "True"
      ]
     },
     "execution_count": 45,
     "metadata": {},
     "output_type": "execute_result"
    }
   ],
   "source": [
    "isinstance(ik_1, IK)"
   ]
  },
  {
   "cell_type": "code",
   "execution_count": 46,
   "id": "b0c86a95",
   "metadata": {},
   "outputs": [
    {
     "data": {
      "text/plain": [
       "True"
      ]
     },
     "execution_count": 46,
     "metadata": {},
     "output_type": "execute_result"
    }
   ],
   "source": [
    "isinstance(ik_1, Employee)"
   ]
  },
  {
   "cell_type": "code",
   "execution_count": 47,
   "id": "4d7b132c",
   "metadata": {},
   "outputs": [
    {
     "data": {
      "text/plain": [
       "True"
      ]
     },
     "execution_count": 47,
     "metadata": {},
     "output_type": "execute_result"
    }
   ],
   "source": [
    "issubclass(IT, Employee)"
   ]
  },
  {
   "cell_type": "code",
   "execution_count": 48,
   "id": "7ad7f4c1",
   "metadata": {},
   "outputs": [
    {
     "data": {
      "text/plain": [
       "True"
      ]
     },
     "execution_count": 48,
     "metadata": {},
     "output_type": "execute_result"
    }
   ],
   "source": [
    "issubclass(IK, Employee)"
   ]
  },
  {
   "cell_type": "code",
   "execution_count": 49,
   "id": "101104be",
   "metadata": {},
   "outputs": [
    {
     "data": {
      "text/plain": [
       "False"
      ]
     },
     "execution_count": 49,
     "metadata": {},
     "output_type": "execute_result"
    }
   ],
   "source": [
    "issubclass(Employee, IK)"
   ]
  },
  {
   "cell_type": "code",
   "execution_count": null,
   "id": "bf7999f8",
   "metadata": {},
   "outputs": [],
   "source": []
  }
 ],
 "metadata": {
  "kernelspec": {
   "display_name": "Python 3",
   "language": "python",
   "name": "python3"
  },
  "language_info": {
   "codemirror_mode": {
    "name": "ipython",
    "version": 3
   },
   "file_extension": ".py",
   "mimetype": "text/x-python",
   "name": "python",
   "nbconvert_exporter": "python",
   "pygments_lexer": "ipython3",
   "version": "3.8.8"
  }
 },
 "nbformat": 4,
 "nbformat_minor": 5
}
