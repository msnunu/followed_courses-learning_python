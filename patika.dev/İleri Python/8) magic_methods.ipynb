{
 "cells": [
  {
   "cell_type": "markdown",
   "id": "12c5ae04",
   "metadata": {},
   "source": [
    "### Magic Methods\n",
    "#### Magic Method'ları kullanarak bazı built-in davranışları değiştirebiliriz. Magic Method' lar __ ile çevrilidir. Bunlara DUNDER METHOD da denir."
   ]
  },
  {
   "cell_type": "code",
   "execution_count": 1,
   "id": "5017b151",
   "metadata": {},
   "outputs": [],
   "source": [
    "class Employee :\n",
    "    raise_percent = 1.05\n",
    "    num_emp  = 0\n",
    "    \n",
    "    def __init__(self, name, last, age, pay) :\n",
    "        self.name = name\n",
    "        self.last = last\n",
    "        self.age = age\n",
    "        self.pay = pay\n",
    "        Employee.num_emp += 1        \n",
    "        \n",
    "        \n",
    "    def apply_raise(self) :\n",
    "        self.pay = self.pay * self.raise_percent"
   ]
  },
  {
   "cell_type": "code",
   "execution_count": 2,
   "id": "07c9ff3a",
   "metadata": {},
   "outputs": [],
   "source": [
    "emp_1 = Employee(\"James\", \"Hughes\", 32, 5000)\n",
    "emp_2 = Employee(\"Charlie\", \"Brown\", 22, 3000)"
   ]
  },
  {
   "cell_type": "markdown",
   "id": "c35a02ac",
   "metadata": {},
   "source": [
    "## __init__()\n",
    "#### emp_1 = Employee(\"James\", \"Hughes\", 32, 5000) gibi class' ta obje oluşturma kısmında çağırılır. Class(.....) formatında input olarak verilenleri arguman olarak alır kendine."
   ]
  },
  {
   "cell_type": "markdown",
   "id": "48bdaaf0",
   "metadata": {},
   "source": [
    "## __str__()\n",
    "#### objenin okunabilir bir tanımını oluştururuz"
   ]
  },
  {
   "cell_type": "code",
   "execution_count": 20,
   "id": "6a28847b",
   "metadata": {},
   "outputs": [],
   "source": [
    "# str represenatation\n",
    "\n",
    "class Employee :\n",
    "    raise_percent = 1.05\n",
    "    num_emp  = 0\n",
    "    \n",
    "    def __init__(self, name, last, age, pay) :\n",
    "        self.name = name\n",
    "        self.last = last\n",
    "        self.age = age\n",
    "        self.pay = pay\n",
    "        Employee.num_emp += 1        \n",
    "        \n",
    "        \n",
    "    def apply_raise(self) :\n",
    "        self.pay = self.pay * self.raise_percent\n",
    "        \n",
    "    def __str__(self) :   # print(obje_adı) verildiği an bu fonk çalışacak\n",
    "        return f\" Here is your employee's information: Name: {self.name}, Last = {self.last}, Age = {self.age}, Pay = {self.pay}\" "
   ]
  },
  {
   "cell_type": "code",
   "execution_count": 21,
   "id": "1d318420",
   "metadata": {},
   "outputs": [],
   "source": [
    "emp_1 = Employee(\"James\", \"Hughes\", 22, 5000)"
   ]
  },
  {
   "cell_type": "code",
   "execution_count": 22,
   "id": "1733ea42",
   "metadata": {},
   "outputs": [
    {
     "name": "stdout",
     "output_type": "stream",
     "text": [
      " Here is your employee's information: Name: James, Last = Hughes, Age = 22, Pay = 5000\n"
     ]
    }
   ],
   "source": [
    "print(emp_1)"
   ]
  },
  {
   "cell_type": "markdown",
   "id": "ea35cd27",
   "metadata": {},
   "source": [
    "## __add__()\n",
    "#### + operatörüne girince objenin nasıl davranacağını belirliyen magic methodtur."
   ]
  },
  {
   "cell_type": "code",
   "execution_count": 23,
   "id": "5288f09a",
   "metadata": {},
   "outputs": [],
   "source": [
    "class Employee :\n",
    "    raise_percent = 1.05\n",
    "    num_emp  = 0\n",
    "    \n",
    "    def __init__(self, name, last, age, pay) :\n",
    "        self.name = name\n",
    "        self.last = last\n",
    "        self.age = age\n",
    "        self.pay = pay\n",
    "        Employee.num_emp += 1        \n",
    "        \n",
    "        \n",
    "    def apply_raise(self) :\n",
    "        self.pay = self.pay * self.raise_percent\n",
    "        \n",
    "    def __str__(self) :   # print(obje_adı) verildiği an bu fonk çalışacak\n",
    "        return f\" Here is your employee's information: Name: {self.name}, Last = {self.last}, Age = {self.age}, Pay = {self.pay}\" \n",
    "    \n",
    "    def __add__(self, other) :  # argüman olarak bir self yani instance bir de other aldım\n",
    "        return self.pay * other.pay # burada yaptıracağım işlemler bana kalmış;\n",
    "    \n",
    "# AMAÇ ŞU add() operatöründe\n",
    "## obje üzerinden + operatörü ile bir işlem yapılacağını görünce bu fonksiyona uğrar"
   ]
  },
  {
   "cell_type": "code",
   "execution_count": 24,
   "id": "09d104ba",
   "metadata": {},
   "outputs": [],
   "source": [
    "emp_1 = Employee(\"James\", \"Hughes\", 22, 5000)\n",
    "emp_2 = Employee(\"Charlie\", \"Brown\", 22, 3000)"
   ]
  },
  {
   "cell_type": "code",
   "execution_count": 25,
   "id": "8068194d",
   "metadata": {},
   "outputs": [
    {
     "data": {
      "text/plain": [
       "15000000"
      ]
     },
     "execution_count": 25,
     "metadata": {},
     "output_type": "execute_result"
    }
   ],
   "source": [
    "emp_1 + emp_2"
   ]
  },
  {
   "cell_type": "markdown",
   "id": "88290746",
   "metadata": {},
   "source": [
    "## len()"
   ]
  },
  {
   "cell_type": "code",
   "execution_count": 26,
   "id": "2b8d40f2",
   "metadata": {},
   "outputs": [],
   "source": [
    "class Employee :\n",
    "    raise_percent = 1.05\n",
    "    num_emp  = 0\n",
    "    \n",
    "    def __init__(self, name, last, age, pay) :\n",
    "        self.name = name\n",
    "        self.last = last\n",
    "        self.age = age\n",
    "        self.pay = pay\n",
    "        Employee.num_emp += 1        \n",
    "        \n",
    "        \n",
    "    def apply_raise(self) :\n",
    "        self.pay = self.pay * self.raise_percent\n",
    "        \n",
    "    def __str__(self) :   \n",
    "        return f\" Here is your employee's information: Name: {self.name}, Last = {self.last}, Age = {self.age}, Pay = {self.pay}\" \n",
    "    \n",
    "    def __add__(self, other) :  \n",
    "        return self.pay * other.pay\n",
    "    \n",
    "    def __len__(self) :\n",
    "        return len(self.name)"
   ]
  },
  {
   "cell_type": "code",
   "execution_count": 27,
   "id": "219c137b",
   "metadata": {},
   "outputs": [],
   "source": [
    "emp_1 = Employee(\"James\", \"Hughes\", 22, 5000)\n",
    "emp_2 = Employee(\"Charlie\", \"Brown\", 22, 3000)"
   ]
  },
  {
   "cell_type": "code",
   "execution_count": 28,
   "id": "1e596bc6",
   "metadata": {},
   "outputs": [
    {
     "data": {
      "text/plain": [
       "5"
      ]
     },
     "execution_count": 28,
     "metadata": {},
     "output_type": "execute_result"
    }
   ],
   "source": [
    "len(emp_1)"
   ]
  },
  {
   "cell_type": "markdown",
   "id": "2d0abf1c",
   "metadata": {},
   "source": [
    "## call()\n",
    "#### The __call__ method enables Python programmers to write classes where THE INSTANCES BEHAVE LIKE FUNCTIONS and can be called like a function. When the instance is called as a function; if this method is defined, x(arg1, arg2, ...) is a shorthand for x.__call__(arg1, arg2, ...)."
   ]
  },
  {
   "cell_type": "code",
   "execution_count": 1,
   "id": "174e2ad0",
   "metadata": {},
   "outputs": [],
   "source": [
    "class Example :\n",
    "    def __init__(self) :\n",
    "        print(\"Instance Cretaed\")\n",
    "    \n",
    "    #defining __call__ method\n",
    "    def __call__(self) :\n",
    "        print(\"Instance is called via special method\")"
   ]
  },
  {
   "cell_type": "code",
   "execution_count": 2,
   "id": "2568a427",
   "metadata": {},
   "outputs": [
    {
     "name": "stdout",
     "output_type": "stream",
     "text": [
      "Instance Cretaed\n"
     ]
    }
   ],
   "source": [
    "e = Example()"
   ]
  },
  {
   "cell_type": "code",
   "execution_count": 3,
   "id": "e4a5e5cd",
   "metadata": {},
   "outputs": [
    {
     "name": "stdout",
     "output_type": "stream",
     "text": [
      "Instance is called via special method\n"
     ]
    }
   ],
   "source": [
    "e.__call__()"
   ]
  },
  {
   "cell_type": "code",
   "execution_count": 4,
   "id": "e400d0f5",
   "metadata": {},
   "outputs": [
    {
     "name": "stdout",
     "output_type": "stream",
     "text": [
      "Instance is called via special method\n"
     ]
    }
   ],
   "source": [
    "e( )"
   ]
  },
  {
   "cell_type": "code",
   "execution_count": 5,
   "id": "844e8841",
   "metadata": {},
   "outputs": [],
   "source": [
    "# So these codes gave the same output: \n",
    "# e.__call__()              #e( )"
   ]
  },
  {
   "cell_type": "code",
   "execution_count": 6,
   "id": "e9080b06",
   "metadata": {},
   "outputs": [],
   "source": [
    "class Product( ) :\n",
    "    def __init__(self) :\n",
    "        print(\"Instance Created\")\n",
    "        \n",
    "    def __call__(self, a, b) :\n",
    "        print(a * b)"
   ]
  },
  {
   "cell_type": "code",
   "execution_count": 7,
   "id": "dc1c4940",
   "metadata": {},
   "outputs": [
    {
     "name": "stdout",
     "output_type": "stream",
     "text": [
      "Instance Created\n"
     ]
    }
   ],
   "source": [
    "ans = Product( );"
   ]
  },
  {
   "cell_type": "code",
   "execution_count": 9,
   "id": "40401244",
   "metadata": {},
   "outputs": [
    {
     "name": "stdout",
     "output_type": "stream",
     "text": [
      "200\n"
     ]
    }
   ],
   "source": [
    "ans.__call__(10, 20)"
   ]
  },
  {
   "cell_type": "code",
   "execution_count": 10,
   "id": "2f9bb8e4",
   "metadata": {},
   "outputs": [
    {
     "name": "stdout",
     "output_type": "stream",
     "text": [
      "200\n"
     ]
    }
   ],
   "source": [
    "ans(10, 20)"
   ]
  },
  {
   "cell_type": "code",
   "execution_count": null,
   "id": "75d09f10",
   "metadata": {},
   "outputs": [],
   "source": []
  }
 ],
 "metadata": {
  "kernelspec": {
   "display_name": "Python 3",
   "language": "python",
   "name": "python3"
  },
  "language_info": {
   "codemirror_mode": {
    "name": "ipython",
    "version": 3
   },
   "file_extension": ".py",
   "mimetype": "text/x-python",
   "name": "python",
   "nbconvert_exporter": "python",
   "pygments_lexer": "ipython3",
   "version": "3.8.8"
  }
 },
 "nbformat": 4,
 "nbformat_minor": 5
}
