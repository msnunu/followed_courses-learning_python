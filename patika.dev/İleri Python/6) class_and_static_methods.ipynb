{
 "cells": [
  {
   "cell_type": "markdown",
   "id": "b902366c",
   "metadata": {},
   "source": [
    "### Class Method"
   ]
  },
  {
   "cell_type": "markdown",
   "id": "3dca3c27",
   "metadata": {},
   "source": [
    "#### @classmethod decorator methodu ilk argüman olarak instance almak yerine class'ı alacak şekilde günceller"
   ]
  },
  {
   "cell_type": "code",
   "execution_count": 1,
   "id": "a0efdad8",
   "metadata": {},
   "outputs": [],
   "source": [
    "class Employee :\n",
    "    raise_percent = 1.05\n",
    "    num_emp  = 0\n",
    "    \n",
    "    def __init__(self, name, last, age, pay) :\n",
    "        self.name = name\n",
    "        self.last = last\n",
    "        self.age = age\n",
    "        self.pay = pay\n",
    "        Employee.num_emp += 1\n",
    "        \n",
    "        \n",
    "    def apply_raise(self) :\n",
    "        self.pay = self.pay * self.raise_percent\n",
    "        \n",
    "        \n",
    "    @classmethod\n",
    "    def set_raise(cls, amount) :\n",
    "        cls.raise_percent = amount\n",
    "    "
   ]
  },
  {
   "cell_type": "code",
   "execution_count": 2,
   "id": "018c22cf",
   "metadata": {},
   "outputs": [],
   "source": [
    "emp_1 = Employee(\"Jake\", \"Hughes\", 22, 5000)"
   ]
  },
  {
   "cell_type": "code",
   "execution_count": 3,
   "id": "4b063ba4",
   "metadata": {},
   "outputs": [],
   "source": [
    "emp_2 = Employee(\"Charlie\", \"Brown\", 22, 3000)"
   ]
  },
  {
   "cell_type": "code",
   "execution_count": 4,
   "id": "c518b559",
   "metadata": {},
   "outputs": [],
   "source": [
    "Employee.set_raise(1.7)"
   ]
  },
  {
   "cell_type": "code",
   "execution_count": 5,
   "id": "830ee72e",
   "metadata": {},
   "outputs": [
    {
     "name": "stdout",
     "output_type": "stream",
     "text": [
      "1.7\n",
      "1.7\n",
      "1.7\n"
     ]
    }
   ],
   "source": [
    "print(emp_1.raise_percent)\n",
    "print(emp_2.raise_percent)\n",
    "print(Employee.raise_percent)"
   ]
  },
  {
   "cell_type": "markdown",
   "id": "5ffc391f",
   "metadata": {},
   "source": [
    "##### Normalde class variable ı emp_1 objesi üzerinden güncellediğimde sadece onda değişirdi. Ama @classmethod ile yaptığım için tüm objeler üzerinde güncelleme yapacak"
   ]
  },
  {
   "cell_type": "code",
   "execution_count": 6,
   "id": "3819359e",
   "metadata": {},
   "outputs": [],
   "source": [
    "emp_1.set_raise(2.3)"
   ]
  },
  {
   "cell_type": "code",
   "execution_count": 7,
   "id": "da536a70",
   "metadata": {},
   "outputs": [
    {
     "name": "stdout",
     "output_type": "stream",
     "text": [
      "2.3\n",
      "2.3\n",
      "2.3\n"
     ]
    }
   ],
   "source": [
    "print(emp_1.raise_percent)\n",
    "print(emp_2.raise_percent)\n",
    "print(Employee.raise_percent)"
   ]
  },
  {
   "cell_type": "markdown",
   "id": "f036dcaa",
   "metadata": {},
   "source": [
    "### Alternative Constructor"
   ]
  },
  {
   "cell_type": "markdown",
   "id": "29c92cc5",
   "metadata": {},
   "source": [
    "#### diyelim i bize class'ı  oluştururken input olarak string veriyorlar ve bizim bundan name, age gibi bilgileri kendimiz çıkartmamız lazım."
   ]
  },
  {
   "cell_type": "code",
   "execution_count": 9,
   "id": "6ef38248",
   "metadata": {},
   "outputs": [],
   "source": [
    "emp_1_str  =\"James-Hughes-32-5000\"\n",
    "emp_2_str = \"Charlie-Brown-22- 3000\""
   ]
  },
  {
   "cell_type": "code",
   "execution_count": 10,
   "id": "41a9edbe",
   "metadata": {},
   "outputs": [
    {
     "data": {
      "text/plain": [
       "['James', 'Hughes', '32', '5000']"
      ]
     },
     "execution_count": 10,
     "metadata": {},
     "output_type": "execute_result"
    }
   ],
   "source": [
    "emp_1_str.split(\"-\")"
   ]
  },
  {
   "cell_type": "code",
   "execution_count": 12,
   "id": "7845459b",
   "metadata": {},
   "outputs": [],
   "source": [
    "name, last, age, pay = emp_1_str.split(\"-\")  #multiple varibale assigment"
   ]
  },
  {
   "cell_type": "code",
   "execution_count": 18,
   "id": "9c0a3683",
   "metadata": {},
   "outputs": [],
   "source": [
    "emp_1 = Employee(name, last, age, pay)"
   ]
  },
  {
   "cell_type": "code",
   "execution_count": 19,
   "id": "a85027f0",
   "metadata": {},
   "outputs": [
    {
     "data": {
      "text/plain": [
       "<__main__.Employee at 0x29b0588a700>"
      ]
     },
     "execution_count": 19,
     "metadata": {},
     "output_type": "execute_result"
    }
   ],
   "source": [
    "emp_1"
   ]
  },
  {
   "cell_type": "code",
   "execution_count": 20,
   "id": "e914464c",
   "metadata": {},
   "outputs": [],
   "source": [
    "# ama belki her zaman bu şekild vermeyeceğiz. string olarak input geldiğinde objenin bu şekilde oluşması için başka nasıl bir mekanizma bulabilirim?\n",
    "#her seferinde kendim parse etmek yerine bunu bir method olarak yazabilirim"
   ]
  },
  {
   "cell_type": "code",
   "execution_count": 30,
   "id": "ecc6d43f",
   "metadata": {},
   "outputs": [],
   "source": [
    "class Employee :\n",
    "    raise_percent = 1.05\n",
    "    num_emp  = 0\n",
    "    \n",
    "    def __init__(self, name, last, age, pay) :\n",
    "        self.name = name\n",
    "        self.last = last\n",
    "        self.age = age\n",
    "        self.pay = pay\n",
    "        Employee.num_emp += 1\n",
    "        \n",
    "        \n",
    "    def apply_raise(self) :\n",
    "        self.pay = self.pay * self.raise_percent\n",
    "        \n",
    "        \n",
    "    @classmethod\n",
    "    def set_raise(cls, amount) :  # cls Employee ye referans ediyor\n",
    "        cls.raise_percent = amount\n",
    "        \n",
    "    @classmethod    \n",
    "    def from_string(cls, emp_str) :   # cls Employee ye referans ediyor\n",
    "        name, last, age, pay = emp_str.split(\"-\")\n",
    "        return cls(name, last, int(age), float(pay)) # yeni çalışan yaratacak ve döndürecek"
   ]
  },
  {
   "cell_type": "code",
   "execution_count": 31,
   "id": "cb4a20c4",
   "metadata": {},
   "outputs": [],
   "source": [
    "emp_1_str  =\"James-Hughes-32-5000\"\n",
    "emp_2_str = \"Charlie-Brown-22- 3000\""
   ]
  },
  {
   "cell_type": "code",
   "execution_count": 32,
   "id": "4a3f2e07",
   "metadata": {},
   "outputs": [],
   "source": [
    "emp_1 = Employee.from_string(emp_1_str)"
   ]
  },
  {
   "cell_type": "code",
   "execution_count": 34,
   "id": "3a3b0a4c",
   "metadata": {},
   "outputs": [
    {
     "data": {
      "text/plain": [
       "5000.0"
      ]
     },
     "execution_count": 34,
     "metadata": {},
     "output_type": "execute_result"
    }
   ],
   "source": [
    "emp_1.pay"
   ]
  },
  {
   "cell_type": "markdown",
   "id": "15da0d8b",
   "metadata": {},
   "source": [
    "### Static Method"
   ]
  },
  {
   "cell_type": "markdown",
   "id": "16f5ec0c",
   "metadata": {},
   "source": [
    "#### Regular methodlar(ilk gördüklerimiz) classın instance' ını (oluşturulan objeyi) methodlara otomatik argüman olarak veriyordu SELF olarak. Instance veya class a methodun içerisinde erişim olmuyorsa STATIC olarak tanımlamak daha iyi olabilir."
   ]
  },
  {
   "cell_type": "code",
   "execution_count": 36,
   "id": "d16a41e7",
   "metadata": {},
   "outputs": [],
   "source": [
    "class Employee :\n",
    "    raise_percent = 1.05\n",
    "    num_emp  = 0\n",
    "    \n",
    "    def __init__(self, name, last, age, pay) :\n",
    "        self.name = name\n",
    "        self.last = last\n",
    "        self.age = age\n",
    "        self.pay = pay\n",
    "        Employee.num_emp += 1\n",
    "        \n",
    "        \n",
    "    def apply_raise(self) :\n",
    "        self.pay = self.pay * self.raise_percent\n",
    "        \n",
    "        \n",
    "    @classmethod\n",
    "    def set_raise(cls, amount) :  # cls Employee ye referans ediyor\n",
    "        cls.raise_percent = amount\n",
    "        \n",
    "    @classmethod    \n",
    "    def from_string(cls, emp_str) :   # cls Employee ye referans ediyor\n",
    "        name, last, age, pay = emp_str.split(\"-\")\n",
    "        return cls(name, last, int(age), float(pay)) # yeni çalışan yaratacak ve döndürecek\n",
    "    \n",
    "    @staticmethod # burada tatil günü ne objeme yani çalışana ne de Employee classına göre değişen bir şey değil!!!\n",
    "                             # bu yüzden static method kullanmak çok daha makul\n",
    "    def holiday_print(day) : # parantez içine ne self aldık ne de cls ÇÜNKÜ BU STATIC BİR METHOD\n",
    "        if day == \"weekend\" :\n",
    "            print(\"This is an off day, take rest!\")\n",
    "        else:\n",
    "            print(\"This is not an off day!\")"
   ]
  },
  {
   "cell_type": "code",
   "execution_count": 37,
   "id": "82452c22",
   "metadata": {},
   "outputs": [
    {
     "name": "stdout",
     "output_type": "stream",
     "text": [
      "This is an off day, take rest!\n"
     ]
    }
   ],
   "source": [
    "Employee.holiday_print(\"weekend\")"
   ]
  },
  {
   "cell_type": "code",
   "execution_count": 38,
   "id": "7b173c9a",
   "metadata": {},
   "outputs": [],
   "source": [
    "emp_1 = Employee(\"Jake\", \"Hughes\", 22, 5000)"
   ]
  },
  {
   "cell_type": "code",
   "execution_count": 39,
   "id": "ca410746",
   "metadata": {},
   "outputs": [
    {
     "name": "stdout",
     "output_type": "stream",
     "text": [
      "This is not an off day!\n"
     ]
    }
   ],
   "source": [
    "emp_1.holiday_print(\"working day\")"
   ]
  },
  {
   "cell_type": "code",
   "execution_count": 40,
   "id": "fe8a6f7f",
   "metadata": {},
   "outputs": [
    {
     "name": "stdout",
     "output_type": "stream",
     "text": [
      "{'__module__': '__main__', 'raise_percent': 1.05, 'num_emp': 1, '__init__': <function Employee.__init__ at 0x0000029B05E30AF0>, 'apply_raise': <function Employee.apply_raise at 0x0000029B05E308B0>, 'set_raise': <classmethod object at 0x0000029B063AC220>, 'from_string': <classmethod object at 0x0000029B063AC0A0>, 'holiday_print': <staticmethod object at 0x0000029B063AC7F0>, '__dict__': <attribute '__dict__' of 'Employee' objects>, '__weakref__': <attribute '__weakref__' of 'Employee' objects>, '__doc__': None}\n"
     ]
    }
   ],
   "source": [
    "print(Employee.__dict__)"
   ]
  },
  {
   "cell_type": "code",
   "execution_count": 41,
   "id": "5699a5a0",
   "metadata": {},
   "outputs": [
    {
     "name": "stdout",
     "output_type": "stream",
     "text": [
      "{'name': 'Jake', 'last': 'Hughes', 'age': 22, 'pay': 5000}\n"
     ]
    }
   ],
   "source": [
    "print(emp_1.__dict__)"
   ]
  },
  {
   "cell_type": "code",
   "execution_count": null,
   "id": "88e4e273",
   "metadata": {},
   "outputs": [],
   "source": []
  }
 ],
 "metadata": {
  "kernelspec": {
   "display_name": "Python 3",
   "language": "python",
   "name": "python3"
  },
  "language_info": {
   "codemirror_mode": {
    "name": "ipython",
    "version": 3
   },
   "file_extension": ".py",
   "mimetype": "text/x-python",
   "name": "python",
   "nbconvert_exporter": "python",
   "pygments_lexer": "ipython3",
   "version": "3.8.8"
  }
 },
 "nbformat": 4,
 "nbformat_minor": 5
}
