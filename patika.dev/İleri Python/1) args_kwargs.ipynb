{
 "cells": [
  {
   "cell_type": "markdown",
   "id": "a11a06da",
   "metadata": {},
   "source": [
    "# Args & Kwargs"
   ]
  },
  {
   "cell_type": "markdown",
   "id": "d8148000",
   "metadata": {},
   "source": [
    "## Args"
   ]
  },
  {
   "cell_type": "code",
   "execution_count": null,
   "id": "3590b026",
   "metadata": {},
   "outputs": [],
   "source": [
    "# Değişken sayılı parametre vermenin bir yolu\n",
    "# list,tuple objelerini unpack yapar ama dict objelerini yapmaz"
   ]
  },
  {
   "cell_type": "code",
   "execution_count": 2,
   "id": "30970b88",
   "metadata": {},
   "outputs": [],
   "source": [
    "def sum(numbers):\n",
    "    res = 0\n",
    "    for e in numbers:\n",
    "        res += e\n",
    "    return res"
   ]
  },
  {
   "cell_type": "code",
   "execution_count": 3,
   "id": "78afd2a2",
   "metadata": {},
   "outputs": [],
   "source": [
    "numbers = [1,2,3,4]"
   ]
  },
  {
   "cell_type": "code",
   "execution_count": 4,
   "id": "d720bce1",
   "metadata": {},
   "outputs": [
    {
     "data": {
      "text/plain": [
       "10"
      ]
     },
     "execution_count": 4,
     "metadata": {},
     "output_type": "execute_result"
    }
   ],
   "source": [
    "sum(numbers)"
   ]
  },
  {
   "cell_type": "code",
   "execution_count": 6,
   "id": "9fbbb6d2",
   "metadata": {},
   "outputs": [
    {
     "data": {
      "text/plain": [
       "3"
      ]
     },
     "execution_count": 6,
     "metadata": {},
     "output_type": "execute_result"
    }
   ],
   "source": [
    "numbers = [1,2]\n",
    "sum(numbers)"
   ]
  },
  {
   "cell_type": "markdown",
   "id": "18299e7f",
   "metadata": {},
   "source": [
    "#### *args ın anlamı, en başta tuple gibi bir objem vardı ama bunu tek tek elemanlarına ayırdım"
   ]
  },
  {
   "cell_type": "code",
   "execution_count": 7,
   "id": "a382e26b",
   "metadata": {},
   "outputs": [],
   "source": [
    "def sum(*args) :\n",
    "    res = 0\n",
    "    for e in args:\n",
    "        res += e\n",
    "    return res"
   ]
  },
  {
   "cell_type": "code",
   "execution_count": 8,
   "id": "cff096d7",
   "metadata": {},
   "outputs": [
    {
     "data": {
      "text/plain": [
       "10"
      ]
     },
     "execution_count": 8,
     "metadata": {},
     "output_type": "execute_result"
    }
   ],
   "source": [
    "# *args = 1, 2, 3, 4 olduğunu varsyarsak, yani args in tek tek elemanlarına ayrılmış hali 1, 2, 3, 4 ise orjinali args = (1,2,3,4)\n",
    "sum(1,2,3,4)"
   ]
  },
  {
   "cell_type": "code",
   "execution_count": 9,
   "id": "8d27b412",
   "metadata": {},
   "outputs": [],
   "source": [
    "def sum(*numbers) :\n",
    "    res = 0\n",
    "    print(type(numbers))\n",
    "    print(numbers)\n",
    "    for e in numbers :\n",
    "        res += e\n",
    "    return res"
   ]
  },
  {
   "cell_type": "code",
   "execution_count": 10,
   "id": "97dfc46b",
   "metadata": {},
   "outputs": [
    {
     "name": "stdout",
     "output_type": "stream",
     "text": [
      "<class 'tuple'>\n",
      "(1, 2, 3, 4, 5, 6)\n"
     ]
    },
    {
     "data": {
      "text/plain": [
       "21"
      ]
     },
     "execution_count": 10,
     "metadata": {},
     "output_type": "execute_result"
    }
   ],
   "source": [
    "sum(1,2,3,4,5,6)"
   ]
  },
  {
   "cell_type": "code",
   "execution_count": 11,
   "id": "07a3acc2",
   "metadata": {},
   "outputs": [],
   "source": [
    "# sum( *..... ) parantez içindeki kısım unpack edilimiş hal; geri unpack yapınca default değeri ola tuple döndürdü"
   ]
  },
  {
   "cell_type": "code",
   "execution_count": 13,
   "id": "feadfd2d",
   "metadata": {},
   "outputs": [
    {
     "ename": "TypeError",
     "evalue": "sum() got an unexpected keyword argument 'a'",
     "output_type": "error",
     "traceback": [
      "\u001b[1;31m---------------------------------------------------------------------------\u001b[0m",
      "\u001b[1;31mTypeError\u001b[0m                                 Traceback (most recent call last)",
      "\u001b[1;32m<ipython-input-13-b1b1c358a853>\u001b[0m in \u001b[0;36m<module>\u001b[1;34m\u001b[0m\n\u001b[1;32m----> 1\u001b[1;33m \u001b[0msum\u001b[0m\u001b[1;33m(\u001b[0m\u001b[0ma\u001b[0m\u001b[1;33m=\u001b[0m\u001b[1;36m1\u001b[0m\u001b[1;33m,\u001b[0m \u001b[0mb\u001b[0m\u001b[1;33m=\u001b[0m\u001b[1;36m2\u001b[0m\u001b[1;33m)\u001b[0m\u001b[1;33m\u001b[0m\u001b[1;33m\u001b[0m\u001b[0m\n\u001b[0m",
      "\u001b[1;31mTypeError\u001b[0m: sum() got an unexpected keyword argument 'a'"
     ]
    }
   ],
   "source": [
    "sum(a=1, b=2)"
   ]
  },
  {
   "cell_type": "code",
   "execution_count": 14,
   "id": "fe4def32",
   "metadata": {},
   "outputs": [],
   "source": [
    "def sum_2(*args) :\n",
    "    res = 0\n",
    "    print(type(args))\n",
    "    print(args)\n",
    "    print(len(args))\n",
    "    for e in args :\n",
    "        for j in e :\n",
    "            res += j\n",
    "    return res"
   ]
  },
  {
   "cell_type": "code",
   "execution_count": 16,
   "id": "e89e343a",
   "metadata": {},
   "outputs": [],
   "source": [
    "# sum_2([1,2]) şeklinde çağırdığımda python şöyle diyor: \n",
    "# *args olarak verilmiş hale unpack hal dediğimize göre \n",
    "# unpack hali list olarak algılar, geri pack yapılırsa TUPLE İÇİNDE LİST olarak döndürür\n",
    "# *args = [1,2] ise args = ( [1,2] )"
   ]
  },
  {
   "cell_type": "markdown",
   "id": "f61031e5",
   "metadata": {},
   "source": [
    "## Kwargs"
   ]
  },
  {
   "cell_type": "code",
   "execution_count": 27,
   "id": "8da0836e",
   "metadata": {},
   "outputs": [],
   "source": [
    "# Fonksiyona değişken sayıda keyword argument verebilmemizi sağlar\n",
    "# **kwargs in pack edilmiş hali dict çevirir"
   ]
  },
  {
   "cell_type": "code",
   "execution_count": 28,
   "id": "82ea3d50",
   "metadata": {},
   "outputs": [],
   "source": [
    "def students(**kwargs) : \n",
    "    print(kwargs)\n",
    "    for v in kwargs.values( ) : \n",
    "        print(v)"
   ]
  },
  {
   "cell_type": "code",
   "execution_count": 29,
   "id": "1a48644d",
   "metadata": {},
   "outputs": [
    {
     "name": "stdout",
     "output_type": "stream",
     "text": [
      "{'name': 'Jake', 'student_number': '401'}\n",
      "Jake\n",
      "401\n"
     ]
    }
   ],
   "source": [
    "students(name = \"Jake\",  student_number = \"401\")"
   ]
  },
  {
   "cell_type": "code",
   "execution_count": 30,
   "id": "356648f3",
   "metadata": {},
   "outputs": [],
   "source": [
    "def students(**students) :\n",
    "    print(students)\n",
    "    for k in students :\n",
    "        print(k)"
   ]
  },
  {
   "cell_type": "code",
   "execution_count": 31,
   "id": "9225f651",
   "metadata": {},
   "outputs": [
    {
     "name": "stdout",
     "output_type": "stream",
     "text": [
      "{'name': 'Dafni', 'grade': '100', 'number': '9250'}\n",
      "name\n",
      "grade\n",
      "number\n"
     ]
    }
   ],
   "source": [
    "students( name = \"Dafni\", grade = \"100\", number = \"9250\")"
   ]
  },
  {
   "cell_type": "markdown",
   "id": "6d2ff614",
   "metadata": {},
   "source": [
    "## Using Args and Kwargs Together"
   ]
  },
  {
   "cell_type": "code",
   "execution_count": 32,
   "id": "b58bedc3",
   "metadata": {},
   "outputs": [],
   "source": [
    "# kullanım sırası önemli oluyor"
   ]
  },
  {
   "cell_type": "code",
   "execution_count": 34,
   "id": "62bb2894",
   "metadata": {},
   "outputs": [],
   "source": [
    "def weird(*args, **kwargs) :\n",
    "    res = 0\n",
    "    for e in args:\n",
    "        res += e\n",
    "    for k,v in kwargs.items( ) :\n",
    "        print(k, \":\", v)\n",
    "        \n",
    "    return res"
   ]
  },
  {
   "cell_type": "code",
   "execution_count": 41,
   "id": "d488b616",
   "metadata": {},
   "outputs": [],
   "source": [
    " dene = {\"name\" : \"JAke\", \"grade\" : \"100\", \"number\" : \"245\"}"
   ]
  },
  {
   "cell_type": "code",
   "execution_count": 42,
   "id": "e80b5713",
   "metadata": {},
   "outputs": [
    {
     "data": {
      "text/plain": [
       "dict"
      ]
     },
     "execution_count": 42,
     "metadata": {},
     "output_type": "execute_result"
    }
   ],
   "source": [
    "type(dene)"
   ]
  },
  {
   "cell_type": "code",
   "execution_count": 45,
   "id": "1b892ff5",
   "metadata": {},
   "outputs": [
    {
     "data": {
      "text/plain": [
       "dict_items([('name', 'JAke'), ('grade', '100'), ('number', '245')])"
      ]
     },
     "execution_count": 45,
     "metadata": {},
     "output_type": "execute_result"
    }
   ],
   "source": [
    "dene.items( )"
   ]
  },
  {
   "cell_type": "code",
   "execution_count": 46,
   "id": "10882596",
   "metadata": {},
   "outputs": [
    {
     "data": {
      "text/plain": [
       "dict_keys(['name', 'grade', 'number'])"
      ]
     },
     "execution_count": 46,
     "metadata": {},
     "output_type": "execute_result"
    }
   ],
   "source": [
    "dene.keys( )"
   ]
  },
  {
   "cell_type": "code",
   "execution_count": 47,
   "id": "eaf9b535",
   "metadata": {},
   "outputs": [
    {
     "data": {
      "text/plain": [
       "dict_values(['JAke', '100', '245'])"
      ]
     },
     "execution_count": 47,
     "metadata": {},
     "output_type": "execute_result"
    }
   ],
   "source": [
    "dene.values( )"
   ]
  },
  {
   "cell_type": "code",
   "execution_count": 48,
   "id": "8467ca98",
   "metadata": {},
   "outputs": [],
   "source": [
    "def weird(*args, **kwargs) :\n",
    "    res = 0\n",
    "    for e in args:\n",
    "        res += e\n",
    "    for k,v in kwargs.items( ) :\n",
    "        print(k, \":\", v)\n",
    "        \n",
    "    return res"
   ]
  },
  {
   "cell_type": "code",
   "execution_count": 51,
   "id": "e4b46b02",
   "metadata": {},
   "outputs": [
    {
     "name": "stdout",
     "output_type": "stream",
     "text": [
      "name : Alien\n",
      "student_number : 402\n",
      "age : 32\n"
     ]
    },
    {
     "data": {
      "text/plain": [
       "16"
      ]
     },
     "execution_count": 51,
     "metadata": {},
     "output_type": "execute_result"
    }
   ],
   "source": [
    "weird(1,2,3,4,6, name = \"Alien\", student_number = \"402\", age = 32)"
   ]
  },
  {
   "cell_type": "code",
   "execution_count": 50,
   "id": "87cd4627",
   "metadata": {},
   "outputs": [
    {
     "ename": "TypeError",
     "evalue": "unsupported operand type(s) for +=: 'int' and 'str'",
     "output_type": "error",
     "traceback": [
      "\u001b[1;31m---------------------------------------------------------------------------\u001b[0m",
      "\u001b[1;31mTypeError\u001b[0m                                 Traceback (most recent call last)",
      "\u001b[1;32m<ipython-input-50-b778aeb9897a>\u001b[0m in \u001b[0;36m<module>\u001b[1;34m\u001b[0m\n\u001b[1;32m----> 1\u001b[1;33m \u001b[0mweird\u001b[0m\u001b[1;33m(\u001b[0m\u001b[1;34m\"ali\"\u001b[0m\u001b[1;33m,\u001b[0m\u001b[1;34m\"en\"\u001b[0m\u001b[1;33m,\u001b[0m \u001b[0mname\u001b[0m \u001b[1;33m=\u001b[0m \u001b[1;34m\"Alien\"\u001b[0m\u001b[1;33m,\u001b[0m \u001b[0mstudent_number\u001b[0m \u001b[1;33m=\u001b[0m \u001b[1;34m\"402\"\u001b[0m\u001b[1;33m)\u001b[0m\u001b[1;33m\u001b[0m\u001b[1;33m\u001b[0m\u001b[0m\n\u001b[0m",
      "\u001b[1;32m<ipython-input-48-57c429a80917>\u001b[0m in \u001b[0;36mweird\u001b[1;34m(*args, **kwargs)\u001b[0m\n\u001b[0;32m      2\u001b[0m     \u001b[0mres\u001b[0m \u001b[1;33m=\u001b[0m \u001b[1;36m0\u001b[0m\u001b[1;33m\u001b[0m\u001b[1;33m\u001b[0m\u001b[0m\n\u001b[0;32m      3\u001b[0m     \u001b[1;32mfor\u001b[0m \u001b[0me\u001b[0m \u001b[1;32min\u001b[0m \u001b[0margs\u001b[0m\u001b[1;33m:\u001b[0m\u001b[1;33m\u001b[0m\u001b[1;33m\u001b[0m\u001b[0m\n\u001b[1;32m----> 4\u001b[1;33m         \u001b[0mres\u001b[0m \u001b[1;33m+=\u001b[0m \u001b[0me\u001b[0m\u001b[1;33m\u001b[0m\u001b[1;33m\u001b[0m\u001b[0m\n\u001b[0m\u001b[0;32m      5\u001b[0m     \u001b[1;32mfor\u001b[0m \u001b[0mk\u001b[0m\u001b[1;33m,\u001b[0m\u001b[0mv\u001b[0m \u001b[1;32min\u001b[0m \u001b[0mkwargs\u001b[0m\u001b[1;33m.\u001b[0m\u001b[0mitems\u001b[0m\u001b[1;33m(\u001b[0m \u001b[1;33m)\u001b[0m \u001b[1;33m:\u001b[0m\u001b[1;33m\u001b[0m\u001b[1;33m\u001b[0m\u001b[0m\n\u001b[0;32m      6\u001b[0m         \u001b[0mprint\u001b[0m\u001b[1;33m(\u001b[0m\u001b[0mk\u001b[0m\u001b[1;33m,\u001b[0m \u001b[1;34m\":\"\u001b[0m\u001b[1;33m,\u001b[0m \u001b[0mv\u001b[0m\u001b[1;33m)\u001b[0m\u001b[1;33m\u001b[0m\u001b[1;33m\u001b[0m\u001b[0m\n",
      "\u001b[1;31mTypeError\u001b[0m: unsupported operand type(s) for +=: 'int' and 'str'"
     ]
    }
   ],
   "source": [
    "weird(\"ali\",\"en\", name = \"Alien\", student_number = \"402\")"
   ]
  },
  {
   "cell_type": "markdown",
   "id": "ea4996f8",
   "metadata": {},
   "source": [
    "## Unpacking"
   ]
  },
  {
   "cell_type": "code",
   "execution_count": 52,
   "id": "0bb586dc",
   "metadata": {},
   "outputs": [],
   "source": [
    "l = [1,2,3,4]"
   ]
  },
  {
   "cell_type": "code",
   "execution_count": 53,
   "id": "c881cd46",
   "metadata": {},
   "outputs": [
    {
     "name": "stdout",
     "output_type": "stream",
     "text": [
      "[1, 2, 3, 4]\n"
     ]
    }
   ],
   "source": [
    "print(l)"
   ]
  },
  {
   "cell_type": "code",
   "execution_count": 55,
   "id": "753966a5",
   "metadata": {},
   "outputs": [
    {
     "name": "stdout",
     "output_type": "stream",
     "text": [
      "1 2 3 4\n"
     ]
    }
   ],
   "source": [
    "print(*l)"
   ]
  },
  {
   "cell_type": "code",
   "execution_count": 56,
   "id": "73c14083",
   "metadata": {},
   "outputs": [],
   "source": [
    "l1 = [1,2,3,4]"
   ]
  },
  {
   "cell_type": "code",
   "execution_count": 57,
   "id": "9d77d947",
   "metadata": {},
   "outputs": [],
   "source": [
    "l2 = [20,22]"
   ]
  },
  {
   "cell_type": "code",
   "execution_count": 67,
   "id": "4ff8477a",
   "metadata": {},
   "outputs": [
    {
     "data": {
      "text/plain": [
       "[1, 2, 3, 4, 20, 22]"
      ]
     },
     "execution_count": 67,
     "metadata": {},
     "output_type": "execute_result"
    }
   ],
   "source": [
    "l1 + l2 #conca-"
   ]
  },
  {
   "cell_type": "code",
   "execution_count": 58,
   "id": "58ed3693",
   "metadata": {},
   "outputs": [],
   "source": [
    "merged_l = [*l1, *l2]"
   ]
  },
  {
   "cell_type": "code",
   "execution_count": 59,
   "id": "46deed43",
   "metadata": {},
   "outputs": [
    {
     "data": {
      "text/plain": [
       "[1, 2, 3, 4, 20, 22]"
      ]
     },
     "execution_count": 59,
     "metadata": {},
     "output_type": "execute_result"
    }
   ],
   "source": [
    "merged_l"
   ]
  },
  {
   "cell_type": "code",
   "execution_count": 60,
   "id": "c5fbf646",
   "metadata": {},
   "outputs": [
    {
     "data": {
      "text/plain": [
       "[[1, 2, 3, 4], [20, 22]]"
      ]
     },
     "execution_count": 60,
     "metadata": {},
     "output_type": "execute_result"
    }
   ],
   "source": [
    "merged = [l1, l2]\n",
    "merged"
   ]
  },
  {
   "cell_type": "code",
   "execution_count": 61,
   "id": "92c69f03",
   "metadata": {},
   "outputs": [],
   "source": [
    "d1 = {\"name\" : \"Jake\" , \"number\" : 402}\n",
    "d2 = {\"last_name\" : \"Sky\" , \"grade\" : 74}"
   ]
  },
  {
   "cell_type": "code",
   "execution_count": 62,
   "id": "cc1f0ea8",
   "metadata": {},
   "outputs": [
    {
     "ename": "TypeError",
     "evalue": "unsupported operand type(s) for +: 'dict' and 'dict'",
     "output_type": "error",
     "traceback": [
      "\u001b[1;31m---------------------------------------------------------------------------\u001b[0m",
      "\u001b[1;31mTypeError\u001b[0m                                 Traceback (most recent call last)",
      "\u001b[1;32m<ipython-input-62-5fdc4b12eb03>\u001b[0m in \u001b[0;36m<module>\u001b[1;34m\u001b[0m\n\u001b[1;32m----> 1\u001b[1;33m \u001b[0md1\u001b[0m \u001b[1;33m+\u001b[0m \u001b[0md2\u001b[0m\u001b[1;33m\u001b[0m\u001b[1;33m\u001b[0m\u001b[0m\n\u001b[0m",
      "\u001b[1;31mTypeError\u001b[0m: unsupported operand type(s) for +: 'dict' and 'dict'"
     ]
    }
   ],
   "source": [
    "d1 + d2"
   ]
  },
  {
   "cell_type": "code",
   "execution_count": 65,
   "id": "8b540d29",
   "metadata": {},
   "outputs": [
    {
     "data": {
      "text/plain": [
       "{'name': 'Jake', 'number': 402, 'last_name': 'Sky', 'grade': 74}"
      ]
     },
     "execution_count": 65,
     "metadata": {},
     "output_type": "execute_result"
    }
   ],
   "source": [
    "d_merged = {**d1, **d2}\n",
    "d_merged"
   ]
  },
  {
   "cell_type": "code",
   "execution_count": 66,
   "id": "202e6617",
   "metadata": {},
   "outputs": [
    {
     "data": {
      "text/plain": [
       "dict"
      ]
     },
     "execution_count": 66,
     "metadata": {},
     "output_type": "execute_result"
    }
   ],
   "source": [
    "type(d_merged)"
   ]
  },
  {
   "cell_type": "code",
   "execution_count": 68,
   "id": "46f7649f",
   "metadata": {},
   "outputs": [],
   "source": [
    "d1  = {\"name\" : \"Jake\" , \"number\" : 402}\n",
    "d3 = {\"name\" : \"Sky\" , \"grade\" : 35}"
   ]
  },
  {
   "cell_type": "code",
   "execution_count": 70,
   "id": "eadab87f",
   "metadata": {},
   "outputs": [
    {
     "data": {
      "text/plain": [
       "{'name': 'Sky', 'number': 402, 'grade': 35}"
      ]
     },
     "execution_count": 70,
     "metadata": {},
     "output_type": "execute_result"
    }
   ],
   "source": [
    "d_merged_3 = {**d1, **d3}\n",
    "d_merged_3"
   ]
  },
  {
   "cell_type": "code",
   "execution_count": 71,
   "id": "9da9748f",
   "metadata": {},
   "outputs": [
    {
     "data": {
      "text/plain": [
       "{'name': 'Milena', 'number': 402, 'grade': 35}"
      ]
     },
     "execution_count": 71,
     "metadata": {},
     "output_type": "execute_result"
    }
   ],
   "source": [
    "d1  = {\"name\" : \"Jake\" , \"number\" : 402}\n",
    "d4 = {\"name\" : \"Milena\" , \"grade\" : 35}\n",
    "d_merged_4 = {**d1, **d4}\n",
    "d_merged_4"
   ]
  },
  {
   "cell_type": "code",
   "execution_count": 73,
   "id": "d33daadc",
   "metadata": {},
   "outputs": [],
   "source": [
    "str_list = [*\"hey this is a string\"]"
   ]
  },
  {
   "cell_type": "code",
   "execution_count": 74,
   "id": "a53a657f",
   "metadata": {},
   "outputs": [
    {
     "data": {
      "text/plain": [
       "['h',\n",
       " 'e',\n",
       " 'y',\n",
       " ' ',\n",
       " 't',\n",
       " 'h',\n",
       " 'i',\n",
       " 's',\n",
       " ' ',\n",
       " 'i',\n",
       " 's',\n",
       " ' ',\n",
       " 'a',\n",
       " ' ',\n",
       " 's',\n",
       " 't',\n",
       " 'r',\n",
       " 'i',\n",
       " 'n',\n",
       " 'g']"
      ]
     },
     "execution_count": 74,
     "metadata": {},
     "output_type": "execute_result"
    }
   ],
   "source": [
    "str_list"
   ]
  },
  {
   "cell_type": "code",
   "execution_count": null,
   "id": "e908c6db",
   "metadata": {},
   "outputs": [],
   "source": []
  }
 ],
 "metadata": {
  "kernelspec": {
   "display_name": "Python 3",
   "language": "python",
   "name": "python3"
  },
  "language_info": {
   "codemirror_mode": {
    "name": "ipython",
    "version": 3
   },
   "file_extension": ".py",
   "mimetype": "text/x-python",
   "name": "python",
   "nbconvert_exporter": "python",
   "pygments_lexer": "ipython3",
   "version": "3.8.8"
  }
 },
 "nbformat": 4,
 "nbformat_minor": 5
}
