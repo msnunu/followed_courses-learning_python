{
 "cells": [
  {
   "cell_type": "markdown",
   "id": "bd60511f",
   "metadata": {},
   "source": [
    "### Class Tanımlamak"
   ]
  },
  {
   "cell_type": "markdown",
   "id": "f71dfe63",
   "metadata": {},
   "source": [
    "#### Class mantığında hem fonksiyonalite hem de veriyi bir arada tutma yoluna bakacağız.\n",
    "#### Class ın içerisindeki data lara attribute; fonksiyonlara method diyeceğiz"
   ]
  },
  {
   "cell_type": "code",
   "execution_count": 1,
   "id": "1944e748",
   "metadata": {},
   "outputs": [
    {
     "ename": "SyntaxError",
     "evalue": "unexpected EOF while parsing (<ipython-input-1-cfc637ff72e6>, line 1)",
     "output_type": "error",
     "traceback": [
      "\u001b[1;36m  File \u001b[1;32m\"<ipython-input-1-cfc637ff72e6>\"\u001b[1;36m, line \u001b[1;32m1\u001b[0m\n\u001b[1;33m    class Employee :\u001b[0m\n\u001b[1;37m                     ^\u001b[0m\n\u001b[1;31mSyntaxError\u001b[0m\u001b[1;31m:\u001b[0m unexpected EOF while parsing\n"
     ]
    }
   ],
   "source": [
    "class Employee : \n"
   ]
  },
  {
   "cell_type": "code",
   "execution_count": 2,
   "id": "cf31baf6",
   "metadata": {},
   "outputs": [],
   "source": [
    "class Employee :\n",
    "    pass"
   ]
  },
  {
   "cell_type": "code",
   "execution_count": 3,
   "id": "47bd12ef",
   "metadata": {},
   "outputs": [],
   "source": [
    "e = Employee( )"
   ]
  },
  {
   "cell_type": "code",
   "execution_count": 4,
   "id": "d1517a9d",
   "metadata": {},
   "outputs": [],
   "source": [
    "# e objesine \"a\" attribute ünü ekledik\n",
    "e.a = 4"
   ]
  },
  {
   "cell_type": "code",
   "execution_count": 5,
   "id": "75a9ba13",
   "metadata": {},
   "outputs": [
    {
     "data": {
      "text/plain": [
       "4"
      ]
     },
     "execution_count": 5,
     "metadata": {},
     "output_type": "execute_result"
    }
   ],
   "source": [
    "e.a"
   ]
  },
  {
   "cell_type": "code",
   "execution_count": 6,
   "id": "4c48f8e5",
   "metadata": {},
   "outputs": [],
   "source": [
    "# böyle tek tek attribute oluşturmak yerine en başta da verebiliriz"
   ]
  },
  {
   "cell_type": "code",
   "execution_count": 3,
   "id": "46a17066",
   "metadata": {},
   "outputs": [],
   "source": [
    "class Employee:\n",
    "    def __init__(self, name, last, age, pay) :\n",
    "        self.name = name \n",
    "        self.last = last\n",
    "        self.age = age\n",
    "        self.pay = pay"
   ]
  },
  {
   "cell_type": "code",
   "execution_count": 4,
   "id": "8a2a8f14",
   "metadata": {},
   "outputs": [],
   "source": [
    "# class bunlardan OBJE ler yaratmak için bir kalıptr!"
   ]
  },
  {
   "cell_type": "code",
   "execution_count": 5,
   "id": "de3d3aba",
   "metadata": {},
   "outputs": [],
   "source": [
    "# emp_1 Employee sınıfının bir objesi\n",
    "emp_1 = Employee(\"James\", \"Luck\", 32, 5000)"
   ]
  },
  {
   "cell_type": "code",
   "execution_count": 6,
   "id": "8d35021e",
   "metadata": {},
   "outputs": [],
   "source": [
    "emp_2 = Employee(\"Charlie\" , \"Brown\" , 22, 3000)"
   ]
  },
  {
   "cell_type": "code",
   "execution_count": 7,
   "id": "f9225e8b",
   "metadata": {},
   "outputs": [
    {
     "data": {
      "text/plain": [
       "'Brown'"
      ]
     },
     "execution_count": 7,
     "metadata": {},
     "output_type": "execute_result"
    }
   ],
   "source": [
    "emp_2.last"
   ]
  },
  {
   "cell_type": "code",
   "execution_count": 17,
   "id": "35f9d098",
   "metadata": {},
   "outputs": [],
   "source": [
    "# Buraya kadar yarattığımız bütün attribute lar INSTANCE VARIABLE.\n",
    "# Her obje(classtan yaratılan instance), kendine özel attribute'a sahip\n",
    "# iki kişinin adı aynı da olabilir ama hepsi için ayrı bir variable var"
   ]
  },
  {
   "cell_type": "markdown",
   "id": "289b74ae",
   "metadata": {},
   "source": [
    "### Method"
   ]
  },
  {
   "cell_type": "code",
   "execution_count": 21,
   "id": "0f15e573",
   "metadata": {},
   "outputs": [],
   "source": [
    "class Employee :\n",
    "    def __init__(self, name, last, age, pay) :\n",
    "        self.name = name\n",
    "        self.last = last\n",
    "        self.age = age\n",
    "        self.pay = pay\n",
    "        \n",
    "    def fullname(self) :\n",
    "        print(f\"{self.name} {self.last}\" )"
   ]
  },
  {
   "cell_type": "code",
   "execution_count": 22,
   "id": "9d75fef7",
   "metadata": {},
   "outputs": [
    {
     "name": "stdout",
     "output_type": "stream",
     "text": [
      "James Luck\n"
     ]
    }
   ],
   "source": [
    "emp_1 = Employee(\"James\", \"Luck\", 32, 5000)\n",
    "emp_1.fullname()"
   ]
  },
  {
   "cell_type": "markdown",
   "id": "db70ea97",
   "metadata": {},
   "source": [
    "### fullname( self ) burada parantez içine self yazmak önemli!! Yazmazsam:"
   ]
  },
  {
   "cell_type": "code",
   "execution_count": 8,
   "id": "3f8d312e",
   "metadata": {},
   "outputs": [],
   "source": [
    "class Employee :\n",
    "    def __init__(self, name, last, age, pay) :\n",
    "        self.name = name\n",
    "        self.last = last\n",
    "        self.age = age\n",
    "        self.pay = pay\n",
    "        \n",
    "    def fullname() :\n",
    "        print(f\"{self.name} {self.last}\" )"
   ]
  },
  {
   "cell_type": "code",
   "execution_count": 9,
   "id": "6333e08a",
   "metadata": {},
   "outputs": [
    {
     "ename": "TypeError",
     "evalue": "fullname() takes 0 positional arguments but 1 was given",
     "output_type": "error",
     "traceback": [
      "\u001b[1;31m---------------------------------------------------------------------------\u001b[0m",
      "\u001b[1;31mTypeError\u001b[0m                                 Traceback (most recent call last)",
      "\u001b[1;32m<ipython-input-9-a8add21dc983>\u001b[0m in \u001b[0;36m<module>\u001b[1;34m\u001b[0m\n\u001b[0;32m      1\u001b[0m \u001b[0memp_1\u001b[0m \u001b[1;33m=\u001b[0m \u001b[0mEmployee\u001b[0m\u001b[1;33m(\u001b[0m\u001b[1;34m\"James\"\u001b[0m\u001b[1;33m,\u001b[0m \u001b[1;34m\"Luck\"\u001b[0m\u001b[1;33m,\u001b[0m \u001b[1;36m32\u001b[0m\u001b[1;33m,\u001b[0m \u001b[1;36m5000\u001b[0m\u001b[1;33m)\u001b[0m\u001b[1;33m\u001b[0m\u001b[1;33m\u001b[0m\u001b[0m\n\u001b[1;32m----> 2\u001b[1;33m \u001b[0memp_1\u001b[0m\u001b[1;33m.\u001b[0m\u001b[0mfullname\u001b[0m\u001b[1;33m(\u001b[0m\u001b[1;33m)\u001b[0m\u001b[1;33m\u001b[0m\u001b[1;33m\u001b[0m\u001b[0m\n\u001b[0m",
      "\u001b[1;31mTypeError\u001b[0m: fullname() takes 0 positional arguments but 1 was given"
     ]
    }
   ],
   "source": [
    "emp_1 = Employee(\"James\", \"Luck\", 32, 5000)\n",
    "emp_1.fullname()"
   ]
  },
  {
   "cell_type": "code",
   "execution_count": null,
   "id": "8226e90f",
   "metadata": {},
   "outputs": [],
   "source": []
  }
 ],
 "metadata": {
  "kernelspec": {
   "display_name": "Python 3",
   "language": "python",
   "name": "python3"
  },
  "language_info": {
   "codemirror_mode": {
    "name": "ipython",
    "version": 3
   },
   "file_extension": ".py",
   "mimetype": "text/x-python",
   "name": "python",
   "nbconvert_exporter": "python",
   "pygments_lexer": "ipython3",
   "version": "3.8.8"
  }
 },
 "nbformat": 4,
 "nbformat_minor": 5
}
