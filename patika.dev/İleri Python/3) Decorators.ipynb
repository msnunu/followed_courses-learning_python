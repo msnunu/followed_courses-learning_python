{
 "cells": [
  {
   "cell_type": "markdown",
   "id": "00d0289f",
   "metadata": {},
   "source": [
    "###### decaorator lar başka fonksiyonları parametre olarak kabul edip yeni bir fonksiyonalite ile yeni bir fonk döndüren yapıdır "
   ]
  },
  {
   "cell_type": "code",
   "execution_count": 1,
   "id": "c71a33d4",
   "metadata": {},
   "outputs": [],
   "source": [
    "def print_func( ) :\n",
    "    print(\"hey\")"
   ]
  },
  {
   "cell_type": "code",
   "execution_count": 17,
   "id": "58a59ef2",
   "metadata": {},
   "outputs": [],
   "source": [
    "def decorator_func(func) :\n",
    "    def wrapper_func( ) :\n",
    "        return func( )\n",
    "    \n",
    "    return wrapper_func  # wrappper func i obje olarak döndürecek, function call yok"
   ]
  },
  {
   "cell_type": "code",
   "execution_count": 18,
   "id": "7b3db9a5",
   "metadata": {},
   "outputs": [],
   "source": [
    "decorated_print = decorator_func(print_func)"
   ]
  },
  {
   "cell_type": "code",
   "execution_count": 20,
   "id": "b6582dc8",
   "metadata": {},
   "outputs": [
    {
     "data": {
      "text/plain": [
       "function"
      ]
     },
     "execution_count": 20,
     "metadata": {},
     "output_type": "execute_result"
    }
   ],
   "source": [
    "type(decorated_print)"
   ]
  },
  {
   "cell_type": "code",
   "execution_count": 22,
   "id": "25290cb4",
   "metadata": {},
   "outputs": [
    {
     "name": "stdout",
     "output_type": "stream",
     "text": [
      "hey\n"
     ]
    }
   ],
   "source": [
    "decorated_print( )"
   ]
  },
  {
   "cell_type": "code",
   "execution_count": 37,
   "id": "03d1c04a",
   "metadata": {},
   "outputs": [],
   "source": [
    "def decorator_func(func) :\n",
    "    def wrapper_func( ) :\n",
    "        print(f\"the name of the function is {func.__name__}\")\n",
    "        return func( )\n",
    "    \n",
    "    return wrapper_func"
   ]
  },
  {
   "cell_type": "code",
   "execution_count": 38,
   "id": "2b749acc",
   "metadata": {},
   "outputs": [],
   "source": [
    "decorated_print = decorator_func(print_func)"
   ]
  },
  {
   "cell_type": "code",
   "execution_count": 39,
   "id": "8e580105",
   "metadata": {},
   "outputs": [
    {
     "name": "stdout",
     "output_type": "stream",
     "text": [
      "the name of the function is print_func\n",
      "hey\n"
     ]
    }
   ],
   "source": [
    "decorated_print( )"
   ]
  },
  {
   "cell_type": "markdown",
   "id": "e9b66dd4",
   "metadata": {},
   "source": [
    "#### Aynı şeyi şu şekilde yapabilirdik:"
   ]
  },
  {
   "cell_type": "code",
   "execution_count": 40,
   "id": "d883814f",
   "metadata": {},
   "outputs": [],
   "source": [
    "# aşağıdaki işlem decorator_func(print_func) ile aynı şey\n",
    "@decorator_func\n",
    "def print_func( ) :\n",
    "    print(\"hey\")"
   ]
  },
  {
   "cell_type": "markdown",
   "id": "74e00f33",
   "metadata": {},
   "source": [
    "#### @func yapınca aslında fonksiyonumuzu @func daki func a input olarak veriyoruz"
   ]
  },
  {
   "cell_type": "code",
   "execution_count": 41,
   "id": "cf1bf0d6",
   "metadata": {},
   "outputs": [
    {
     "name": "stdout",
     "output_type": "stream",
     "text": [
      "the name of the function is print_func\n",
      "hey\n"
     ]
    }
   ],
   "source": [
    "print_func( )"
   ]
  },
  {
   "cell_type": "markdown",
   "id": "a2b56411",
   "metadata": {},
   "source": [
    "#### sonuç olarak asıl çalışan funciton wrapper_func oluyor"
   ]
  },
  {
   "cell_type": "code",
   "execution_count": 42,
   "id": "f8539e7c",
   "metadata": {},
   "outputs": [],
   "source": [
    "def func(name, number) : \n",
    "    print(f\"Name: {name}, Number: {number}\")"
   ]
  },
  {
   "cell_type": "code",
   "execution_count": 43,
   "id": "af9290ba",
   "metadata": {},
   "outputs": [
    {
     "name": "stdout",
     "output_type": "stream",
     "text": [
      "Name: jack, Number: 102\n"
     ]
    }
   ],
   "source": [
    "func(\"jack\", 102)"
   ]
  },
  {
   "cell_type": "code",
   "execution_count": 44,
   "id": "80121280",
   "metadata": {},
   "outputs": [],
   "source": [
    "def decorator_func(func) :\n",
    "    def wrapper_func( ) :\n",
    "        print(f\"the name of the function is {func.__name__}\")\n",
    "        return func(*args)\n",
    "    \n",
    "    return wrapper_func"
   ]
  },
  {
   "cell_type": "code",
   "execution_count": 45,
   "id": "83960f4c",
   "metadata": {},
   "outputs": [],
   "source": [
    "@decorator_func\n",
    "def func(name, number) : \n",
    "    print(f\"Name: {name}, Number: {number}\")"
   ]
  },
  {
   "cell_type": "code",
   "execution_count": 46,
   "id": "4aa97cec",
   "metadata": {},
   "outputs": [
    {
     "ename": "TypeError",
     "evalue": "wrapper_func() takes 0 positional arguments but 2 were given",
     "output_type": "error",
     "traceback": [
      "\u001b[1;31m---------------------------------------------------------------------------\u001b[0m",
      "\u001b[1;31mTypeError\u001b[0m                                 Traceback (most recent call last)",
      "\u001b[1;32m<ipython-input-46-f9c5ee22b9dc>\u001b[0m in \u001b[0;36m<module>\u001b[1;34m\u001b[0m\n\u001b[1;32m----> 1\u001b[1;33m \u001b[0mfunc\u001b[0m\u001b[1;33m(\u001b[0m\u001b[1;34m\"jack\"\u001b[0m \u001b[1;33m,\u001b[0m \u001b[1;36m102\u001b[0m\u001b[1;33m)\u001b[0m\u001b[1;33m\u001b[0m\u001b[1;33m\u001b[0m\u001b[0m\n\u001b[0m",
      "\u001b[1;31mTypeError\u001b[0m: wrapper_func() takes 0 positional arguments but 2 were given"
     ]
    }
   ],
   "source": [
    "func(\"jack\" , 102)"
   ]
  },
  {
   "cell_type": "code",
   "execution_count": 49,
   "id": "1b923ebd",
   "metadata": {},
   "outputs": [],
   "source": [
    "def decorator_func(func) :\n",
    "    def wrapper_func(*args) :\n",
    "        print(f\"the name of the function is {func.__name__}\")\n",
    "        return func(*args)\n",
    "    \n",
    "    return wrapper_func"
   ]
  },
  {
   "cell_type": "code",
   "execution_count": 51,
   "id": "da0e866c",
   "metadata": {},
   "outputs": [],
   "source": [
    "@decorator_func\n",
    "def func(name, number) : \n",
    "    print(f\"Name: {name}, Number: {number}\")"
   ]
  },
  {
   "cell_type": "code",
   "execution_count": 52,
   "id": "f0aae01e",
   "metadata": {},
   "outputs": [
    {
     "name": "stdout",
     "output_type": "stream",
     "text": [
      "the name of the function is func\n",
      "Name: jake, Number: 102\n"
     ]
    }
   ],
   "source": [
    "func(\"jake\", 102)"
   ]
  },
  {
   "cell_type": "code",
   "execution_count": null,
   "id": "eb3816ff",
   "metadata": {},
   "outputs": [],
   "source": []
  }
 ],
 "metadata": {
  "kernelspec": {
   "display_name": "Python 3",
   "language": "python",
   "name": "python3"
  },
  "language_info": {
   "codemirror_mode": {
    "name": "ipython",
    "version": 3
   },
   "file_extension": ".py",
   "mimetype": "text/x-python",
   "name": "python",
   "nbconvert_exporter": "python",
   "pygments_lexer": "ipython3",
   "version": "3.8.8"
  }
 },
 "nbformat": 4,
 "nbformat_minor": 5
}
