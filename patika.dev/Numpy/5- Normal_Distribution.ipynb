{
 "cells": [
  {
   "cell_type": "markdown",
   "id": "58787c67",
   "metadata": {},
   "source": [
    "### Normal Distribution'dan Çekilmiş Değerler ile Array Oluşturmak"
   ]
  },
  {
   "cell_type": "code",
   "execution_count": 1,
   "id": "02ad0943",
   "metadata": {},
   "outputs": [],
   "source": [
    "import numpy as np"
   ]
  },
  {
   "cell_type": "code",
   "execution_count": 2,
   "id": "f681e5ac",
   "metadata": {},
   "outputs": [],
   "source": [
    "# mean\n",
    "# std\n",
    "# array size"
   ]
  },
  {
   "cell_type": "code",
   "execution_count": 3,
   "id": "3691070b",
   "metadata": {},
   "outputs": [
    {
     "data": {
      "text/plain": [
       "array([[-0.77376007, -0.06872272, -0.61672961,  0.08938283,  1.43166324],\n",
       "       [-0.39624279,  0.48210526,  0.13972378,  0.69631913, -0.41873052],\n",
       "       [ 0.44861346,  0.68215999, -0.51238292,  0.93844202,  0.80605063],\n",
       "       [-0.16937677, -1.58716997, -1.14993022,  0.04018125, -0.77079584]])"
      ]
     },
     "execution_count": 3,
     "metadata": {},
     "output_type": "execute_result"
    }
   ],
   "source": [
    "np.random.normal(0, 1, (4,5))"
   ]
  },
  {
   "cell_type": "code",
   "execution_count": 4,
   "id": "b3f35669",
   "metadata": {},
   "outputs": [
    {
     "data": {
      "text/plain": [
       "array([[  21.20283583,   42.24891159,  113.14321976,  -88.50775035,\n",
       "         -68.34036991],\n",
       "       [ -18.59514762, -177.62032558,  -78.59284123,   24.20575394,\n",
       "         -13.86326035],\n",
       "       [ 120.30044488,   22.78349522, -189.33504345,   61.8777189 ,\n",
       "         -35.79340712],\n",
       "       [ -48.97302293,   80.81838641,  -89.84476458,   98.73604216,\n",
       "          43.11378046]])"
      ]
     },
     "execution_count": 4,
     "metadata": {},
     "output_type": "execute_result"
    }
   ],
   "source": [
    "np.random.normal(0, 100, (4,5))"
   ]
  },
  {
   "cell_type": "code",
   "execution_count": 5,
   "id": "3bb70628",
   "metadata": {},
   "outputs": [
    {
     "data": {
      "text/plain": [
       "array([[ 9.64100439, 11.52092217, 10.82026319,  9.11115757,  9.34570739],\n",
       "       [ 9.72675136,  9.59014069, 10.35047545,  9.52475896,  8.54121488],\n",
       "       [ 8.86181629, 10.63160636,  9.07804688,  9.45639479, 10.0003032 ],\n",
       "       [10.34156847,  9.7175774 ,  9.01523792, 11.29216737, 10.3806666 ]])"
      ]
     },
     "execution_count": 5,
     "metadata": {},
     "output_type": "execute_result"
    }
   ],
   "source": [
    "np.random.normal(10, 1, (4,5))"
   ]
  },
  {
   "cell_type": "code",
   "execution_count": null,
   "id": "801b7de6",
   "metadata": {},
   "outputs": [],
   "source": []
  }
 ],
 "metadata": {
  "kernelspec": {
   "display_name": "Python 3",
   "language": "python",
   "name": "python3"
  },
  "language_info": {
   "codemirror_mode": {
    "name": "ipython",
    "version": 3
   },
   "file_extension": ".py",
   "mimetype": "text/x-python",
   "name": "python",
   "nbconvert_exporter": "python",
   "pygments_lexer": "ipython3",
   "version": "3.8.8"
  }
 },
 "nbformat": 4,
 "nbformat_minor": 5
}
