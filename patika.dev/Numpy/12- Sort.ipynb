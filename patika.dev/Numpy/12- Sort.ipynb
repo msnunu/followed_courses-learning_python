{
 "cells": [
  {
   "cell_type": "markdown",
   "id": "2b0f5acb",
   "metadata": {},
   "source": [
    "## Sorting"
   ]
  },
  {
   "cell_type": "code",
   "execution_count": 2,
   "id": "9ad2df4d",
   "metadata": {},
   "outputs": [],
   "source": [
    "import numpy as np"
   ]
  },
  {
   "cell_type": "code",
   "execution_count": 6,
   "id": "df5e9151",
   "metadata": {},
   "outputs": [],
   "source": [
    "a = np.array( [20, 32,5, 30, 27] )"
   ]
  },
  {
   "cell_type": "markdown",
   "id": "9d1af215",
   "metadata": {},
   "source": [
    "#### güncelleme yapmayan sort"
   ]
  },
  {
   "cell_type": "code",
   "execution_count": 7,
   "id": "9a1b3d99",
   "metadata": {},
   "outputs": [
    {
     "data": {
      "text/plain": [
       "array([ 5, 20, 27, 30, 32])"
      ]
     },
     "execution_count": 7,
     "metadata": {},
     "output_type": "execute_result"
    }
   ],
   "source": [
    "np.sort(a)"
   ]
  },
  {
   "cell_type": "code",
   "execution_count": 8,
   "id": "93081fe8",
   "metadata": {},
   "outputs": [
    {
     "data": {
      "text/plain": [
       "array([20, 32,  5, 30, 27])"
      ]
     },
     "execution_count": 8,
     "metadata": {},
     "output_type": "execute_result"
    }
   ],
   "source": [
    "a"
   ]
  },
  {
   "cell_type": "markdown",
   "id": "366593ee",
   "metadata": {},
   "source": [
    "#### güncelleme yapan sort/  funciton call"
   ]
  },
  {
   "cell_type": "code",
   "execution_count": 11,
   "id": "fa09d9ef",
   "metadata": {},
   "outputs": [],
   "source": [
    "a.sort()   \n",
    "### a.sort() = inplace(a = np.sort(a) )"
   ]
  },
  {
   "cell_type": "code",
   "execution_count": 12,
   "id": "69ff19c4",
   "metadata": {},
   "outputs": [
    {
     "data": {
      "text/plain": [
       "array([ 5, 20, 27, 30, 32])"
      ]
     },
     "execution_count": 12,
     "metadata": {},
     "output_type": "execute_result"
    }
   ],
   "source": [
    "a"
   ]
  },
  {
   "cell_type": "markdown",
   "id": "8c432bf9",
   "metadata": {},
   "source": [
    "### np.argsort(array_name)"
   ]
  },
  {
   "cell_type": "code",
   "execution_count": 14,
   "id": "da6c51b9",
   "metadata": {},
   "outputs": [],
   "source": [
    "b = np.array( [2,6,1,5,4,3])"
   ]
  },
  {
   "cell_type": "code",
   "execution_count": 15,
   "id": "78eb54e2",
   "metadata": {},
   "outputs": [
    {
     "data": {
      "text/plain": [
       "array([2, 0, 5, 4, 3, 1], dtype=int64)"
      ]
     },
     "execution_count": 15,
     "metadata": {},
     "output_type": "execute_result"
    }
   ],
   "source": [
    "#küçükten büyüğe sıralanmış elemanların indekslerini veriyor\n",
    "idxs = np.argsort(b)\n",
    "idxs"
   ]
  },
  {
   "cell_type": "code",
   "execution_count": null,
   "id": "cb0fab3a",
   "metadata": {},
   "outputs": [],
   "source": []
  }
 ],
 "metadata": {
  "kernelspec": {
   "display_name": "Python 3",
   "language": "python",
   "name": "python3"
  },
  "language_info": {
   "codemirror_mode": {
    "name": "ipython",
    "version": 3
   },
   "file_extension": ".py",
   "mimetype": "text/x-python",
   "name": "python",
   "nbconvert_exporter": "python",
   "pygments_lexer": "ipython3",
   "version": "3.8.8"
  }
 },
 "nbformat": 4,
 "nbformat_minor": 5
}
