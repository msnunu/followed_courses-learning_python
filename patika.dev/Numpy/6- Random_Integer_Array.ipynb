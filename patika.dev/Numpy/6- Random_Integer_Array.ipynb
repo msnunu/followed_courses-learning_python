{
 "cells": [
  {
   "cell_type": "code",
   "execution_count": 1,
   "id": "f2051611",
   "metadata": {},
   "outputs": [],
   "source": [
    "import numpy as np"
   ]
  },
  {
   "cell_type": "code",
   "execution_count": 4,
   "id": "e8ebec3e",
   "metadata": {},
   "outputs": [],
   "source": [
    "# ( low(inclusive) , high(exclusive) )"
   ]
  },
  {
   "cell_type": "code",
   "execution_count": 3,
   "id": "c9d52fb4",
   "metadata": {},
   "outputs": [
    {
     "data": {
      "text/plain": [
       "array([[1, 3, 5, 5],\n",
       "       [2, 5, 3, 5],\n",
       "       [3, 6, 3, 2]])"
      ]
     },
     "execution_count": 3,
     "metadata": {},
     "output_type": "execute_result"
    }
   ],
   "source": [
    "# uniform distribution\n",
    "# 1in 2nin 3ün gelme olasılığı eşit\n",
    "np.random.randint(1, 10, (3,4))"
   ]
  },
  {
   "cell_type": "code",
   "execution_count": null,
   "id": "c03b77bf",
   "metadata": {},
   "outputs": [],
   "source": [
    "np.random.randint"
   ]
  }
 ],
 "metadata": {
  "kernelspec": {
   "display_name": "Python 3",
   "language": "python",
   "name": "python3"
  },
  "language_info": {
   "codemirror_mode": {
    "name": "ipython",
    "version": 3
   },
   "file_extension": ".py",
   "mimetype": "text/x-python",
   "name": "python",
   "nbconvert_exporter": "python",
   "pygments_lexer": "ipython3",
   "version": "3.8.8"
  }
 },
 "nbformat": 4,
 "nbformat_minor": 5
}
