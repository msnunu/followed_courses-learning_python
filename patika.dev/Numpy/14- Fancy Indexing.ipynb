{
 "cells": [
  {
   "cell_type": "code",
   "execution_count": 1,
   "id": "25476386",
   "metadata": {},
   "outputs": [],
   "source": [
    "import numpy as np"
   ]
  },
  {
   "cell_type": "code",
   "execution_count": 2,
   "id": "9686f4f3",
   "metadata": {},
   "outputs": [],
   "source": [
    "# FANCY INDEXİNG\n",
    "# Şimdiye kadar hep belirli elemanları, belirli kesitlerdeki elemanları, veya belirli sayıda\n",
    "# atlaya atlaya elemanları almayı gördük. Fancy indexing ile birkaç tane belirli indeksteki \n",
    "# elemanları bana döndür diyebilmiş olacağız"
   ]
  },
  {
   "cell_type": "code",
   "execution_count": 3,
   "id": "bdb8748d",
   "metadata": {},
   "outputs": [],
   "source": [
    "x = np.arange(1,15)"
   ]
  },
  {
   "cell_type": "code",
   "execution_count": 4,
   "id": "1d1ae438",
   "metadata": {},
   "outputs": [
    {
     "data": {
      "text/plain": [
       "array([ 1,  2,  3,  4,  5,  6,  7,  8,  9, 10, 11, 12, 13, 14])"
      ]
     },
     "execution_count": 4,
     "metadata": {},
     "output_type": "execute_result"
    }
   ],
   "source": [
    "x"
   ]
  },
  {
   "cell_type": "code",
   "execution_count": 5,
   "id": "b08fc0fb",
   "metadata": {},
   "outputs": [],
   "source": [
    "idxs = [4,5,7,11]"
   ]
  },
  {
   "cell_type": "code",
   "execution_count": 6,
   "id": "d7bb858b",
   "metadata": {},
   "outputs": [
    {
     "data": {
      "text/plain": [
       "array([ 5,  6,  8, 12])"
      ]
     },
     "execution_count": 6,
     "metadata": {},
     "output_type": "execute_result"
    }
   ],
   "source": [
    "x[idxs]"
   ]
  },
  {
   "cell_type": "code",
   "execution_count": 8,
   "id": "ec4edefe",
   "metadata": {},
   "outputs": [],
   "source": [
    "idxs_new = [4,11,5,7]"
   ]
  },
  {
   "cell_type": "code",
   "execution_count": 9,
   "id": "ff104d3a",
   "metadata": {},
   "outputs": [
    {
     "data": {
      "text/plain": [
       "array([ True, False, False, False])"
      ]
     },
     "execution_count": 9,
     "metadata": {},
     "output_type": "execute_result"
    }
   ],
   "source": [
    "x[idxs_new] == x[idxs]"
   ]
  },
  {
   "cell_type": "code",
   "execution_count": 10,
   "id": "50a758d3",
   "metadata": {},
   "outputs": [
    {
     "data": {
      "text/plain": [
       "array([ 5, 12,  6,  8])"
      ]
     },
     "execution_count": 10,
     "metadata": {},
     "output_type": "execute_result"
    }
   ],
   "source": [
    "x[idxs_new]"
   ]
  },
  {
   "cell_type": "code",
   "execution_count": 11,
   "id": "5298e1ec",
   "metadata": {},
   "outputs": [],
   "source": [
    "# index listesine hangi sıra ile verirsen o sıra ile çağırır. array[index_number_lists]"
   ]
  },
  {
   "cell_type": "code",
   "execution_count": 12,
   "id": "68eca064",
   "metadata": {},
   "outputs": [],
   "source": [
    "a = np.arange(1,13).reshape(3,4)"
   ]
  },
  {
   "cell_type": "code",
   "execution_count": 13,
   "id": "cc285e65",
   "metadata": {},
   "outputs": [
    {
     "data": {
      "text/plain": [
       "array([[ 1,  2,  3,  4],\n",
       "       [ 5,  6,  7,  8],\n",
       "       [ 9, 10, 11, 12]])"
      ]
     },
     "execution_count": 13,
     "metadata": {},
     "output_type": "execute_result"
    }
   ],
   "source": [
    "a"
   ]
  },
  {
   "cell_type": "code",
   "execution_count": 14,
   "id": "3d9cc318",
   "metadata": {},
   "outputs": [],
   "source": [
    "b = a[1,(1,3)]"
   ]
  },
  {
   "cell_type": "code",
   "execution_count": 15,
   "id": "f56754ed",
   "metadata": {},
   "outputs": [
    {
     "data": {
      "text/plain": [
       "array([6, 8])"
      ]
     },
     "execution_count": 15,
     "metadata": {},
     "output_type": "execute_result"
    }
   ],
   "source": [
    "b"
   ]
  },
  {
   "cell_type": "code",
   "execution_count": 16,
   "id": "54b2a6c6",
   "metadata": {},
   "outputs": [
    {
     "data": {
      "text/plain": [
       "1"
      ]
     },
     "execution_count": 16,
     "metadata": {},
     "output_type": "execute_result"
    }
   ],
   "source": [
    "b.ndim"
   ]
  },
  {
   "cell_type": "code",
   "execution_count": 17,
   "id": "5f8f7bd0",
   "metadata": {},
   "outputs": [
    {
     "data": {
      "text/plain": [
       "array([5, 6, 7, 8])"
      ]
     },
     "execution_count": 17,
     "metadata": {},
     "output_type": "execute_result"
    }
   ],
   "source": [
    "a[1, ]"
   ]
  },
  {
   "cell_type": "code",
   "execution_count": null,
   "id": "5e079255",
   "metadata": {},
   "outputs": [],
   "source": []
  }
 ],
 "metadata": {
  "kernelspec": {
   "display_name": "Python 3",
   "language": "python",
   "name": "python3"
  },
  "language_info": {
   "codemirror_mode": {
    "name": "ipython",
    "version": 3
   },
   "file_extension": ".py",
   "mimetype": "text/x-python",
   "name": "python",
   "nbconvert_exporter": "python",
   "pygments_lexer": "ipython3",
   "version": "3.8.8"
  }
 },
 "nbformat": 4,
 "nbformat_minor": 5
}
