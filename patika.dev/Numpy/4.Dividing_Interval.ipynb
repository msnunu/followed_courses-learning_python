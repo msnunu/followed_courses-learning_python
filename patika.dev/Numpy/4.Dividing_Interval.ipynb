{
 "cells": [
  {
   "cell_type": "markdown",
   "id": "bef5032b",
   "metadata": {},
   "source": [
    "### Aralığı Eşit Uzaklıktaki Noktalara Bölmek\n",
    "## np.linspace()"
   ]
  },
  {
   "cell_type": "code",
   "execution_count": 1,
   "id": "390fb888",
   "metadata": {},
   "outputs": [],
   "source": [
    "# Belirlenen [başlangıç, bitiş] değerine göre, başlangıç ve bitişi dahil edecek şekilde\n",
    "## aralığı eşit uzaklıkta  noktalara bölmeye yarar."
   ]
  },
  {
   "cell_type": "code",
   "execution_count": 3,
   "id": "6eb3939d",
   "metadata": {},
   "outputs": [],
   "source": [
    "import numpy as np"
   ]
  },
  {
   "cell_type": "code",
   "execution_count": 4,
   "id": "56b8df34",
   "metadata": {},
   "outputs": [
    {
     "data": {
      "text/plain": [
       "array([1.        , 1.02040816, 1.04081633, 1.06122449, 1.08163265,\n",
       "       1.10204082, 1.12244898, 1.14285714, 1.16326531, 1.18367347,\n",
       "       1.20408163, 1.2244898 , 1.24489796, 1.26530612, 1.28571429,\n",
       "       1.30612245, 1.32653061, 1.34693878, 1.36734694, 1.3877551 ,\n",
       "       1.40816327, 1.42857143, 1.44897959, 1.46938776, 1.48979592,\n",
       "       1.51020408, 1.53061224, 1.55102041, 1.57142857, 1.59183673,\n",
       "       1.6122449 , 1.63265306, 1.65306122, 1.67346939, 1.69387755,\n",
       "       1.71428571, 1.73469388, 1.75510204, 1.7755102 , 1.79591837,\n",
       "       1.81632653, 1.83673469, 1.85714286, 1.87755102, 1.89795918,\n",
       "       1.91836735, 1.93877551, 1.95918367, 1.97959184, 2.        ])"
      ]
     },
     "execution_count": 4,
     "metadata": {},
     "output_type": "execute_result"
    }
   ],
   "source": [
    "# Default olarak 50 nokta döndürüyor.\n",
    "np.linspace(1,2)"
   ]
  },
  {
   "cell_type": "code",
   "execution_count": 5,
   "id": "e653fa06",
   "metadata": {},
   "outputs": [
    {
     "data": {
      "text/plain": [
       "array([ 1.,  2.,  3.,  4.,  5.,  6.,  7.,  8.,  9., 10., 11., 12., 13.,\n",
       "       14., 15., 16., 17., 18., 19., 20., 21., 22., 23., 24., 25., 26.,\n",
       "       27., 28., 29., 30., 31., 32., 33., 34., 35., 36., 37., 38., 39.,\n",
       "       40., 41., 42., 43., 44., 45., 46., 47., 48., 49., 50.])"
      ]
     },
     "execution_count": 5,
     "metadata": {},
     "output_type": "execute_result"
    }
   ],
   "source": [
    "np.linspace(1,50)"
   ]
  },
  {
   "cell_type": "code",
   "execution_count": 7,
   "id": "2a68e0fb",
   "metadata": {},
   "outputs": [
    {
     "data": {
      "text/plain": [
       "array([ 1. , 10.9, 20.8, 30.7, 40.6, 50.5, 60.4, 70.3, 80.2, 90.1])"
      ]
     },
     "execution_count": 7,
     "metadata": {},
     "output_type": "execute_result"
    }
   ],
   "source": [
    "np.linspace(1,100, num =10, endpoint = False )"
   ]
  },
  {
   "cell_type": "markdown",
   "id": "25262330",
   "metadata": {},
   "source": [
    "### Kaç Parçaya Böleceğini Göstermek"
   ]
  },
  {
   "cell_type": "code",
   "execution_count": 8,
   "id": "fc7489cd",
   "metadata": {},
   "outputs": [
    {
     "data": {
      "text/plain": [
       "array([1. , 1.5, 2. ])"
      ]
     },
     "execution_count": 8,
     "metadata": {},
     "output_type": "execute_result"
    }
   ],
   "source": [
    "np.linspace(1,2, num = 3)"
   ]
  },
  {
   "cell_type": "code",
   "execution_count": 9,
   "id": "233441ff",
   "metadata": {},
   "outputs": [
    {
     "data": {
      "text/plain": [
       "array([1.        , 1.33333333, 1.66666667])"
      ]
     },
     "execution_count": 9,
     "metadata": {},
     "output_type": "execute_result"
    }
   ],
   "source": [
    "np.linspace( 1,2, num=3, endpoint = False )"
   ]
  },
  {
   "cell_type": "code",
   "execution_count": 10,
   "id": "898761b2",
   "metadata": {},
   "outputs": [
    {
     "data": {
      "text/plain": [
       "array([0.        , 0.03448276, 0.06896552, 0.10344828, 0.13793103,\n",
       "       0.17241379, 0.20689655, 0.24137931, 0.27586207, 0.31034483,\n",
       "       0.34482759, 0.37931034, 0.4137931 , 0.44827586, 0.48275862,\n",
       "       0.51724138, 0.55172414, 0.5862069 , 0.62068966, 0.65517241,\n",
       "       0.68965517, 0.72413793, 0.75862069, 0.79310345, 0.82758621,\n",
       "       0.86206897, 0.89655172, 0.93103448, 0.96551724, 1.        ])"
      ]
     },
     "execution_count": 10,
     "metadata": {},
     "output_type": "execute_result"
    }
   ],
   "source": [
    "# 0 ve 1 arasında (0,1 dahil olacak şekilde) 30 nokta üretmek\n",
    "np.linspace( 0, 1, 30 )"
   ]
  },
  {
   "cell_type": "code",
   "execution_count": 14,
   "id": "da08af9c",
   "metadata": {},
   "outputs": [
    {
     "data": {
      "text/plain": [
       "array([1.2       , 1.46666667, 1.73333333, 2.        , 2.26666667,\n",
       "       2.53333333, 2.8       , 3.06666667, 3.33333333, 3.6       ])"
      ]
     },
     "execution_count": 14,
     "metadata": {},
     "output_type": "execute_result"
    }
   ],
   "source": [
    "np.linspace(1.2, 3.6, 10, endpoint= True )"
   ]
  },
  {
   "cell_type": "code",
   "execution_count": 15,
   "id": "d0e8e62c",
   "metadata": {},
   "outputs": [
    {
     "data": {
      "text/plain": [
       "array([ 1.,  2.,  3.,  4.,  5.,  6.,  7.,  8.,  9., 10.])"
      ]
     },
     "execution_count": 15,
     "metadata": {},
     "output_type": "execute_result"
    }
   ],
   "source": [
    "np.linspace(1,10, 10)"
   ]
  },
  {
   "cell_type": "code",
   "execution_count": null,
   "id": "3ce2f4f9",
   "metadata": {},
   "outputs": [],
   "source": []
  }
 ],
 "metadata": {
  "kernelspec": {
   "display_name": "Python 3",
   "language": "python",
   "name": "python3"
  },
  "language_info": {
   "codemirror_mode": {
    "name": "ipython",
    "version": 3
   },
   "file_extension": ".py",
   "mimetype": "text/x-python",
   "name": "python",
   "nbconvert_exporter": "python",
   "pygments_lexer": "ipython3",
   "version": "3.8.8"
  }
 },
 "nbformat": 4,
 "nbformat_minor": 5
}
