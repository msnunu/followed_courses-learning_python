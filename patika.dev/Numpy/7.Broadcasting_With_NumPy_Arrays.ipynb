{
 "cells": [
  {
   "cell_type": "code",
   "execution_count": 1,
   "id": "577f1f90",
   "metadata": {},
   "outputs": [],
   "source": [
    "# The term broadcasting refers to how numpy treats arrays with \n",
    "# different Dimension during arithmetic operations which lead to certain constraints,\n",
    "# the smaller array is broadcast across the larger array so that they have compatible shapes.  "
   ]
  },
  {
   "cell_type": "markdown",
   "id": "826cae9a",
   "metadata": {},
   "source": [
    "### Example#1: Single Dimension Array"
   ]
  },
  {
   "cell_type": "code",
   "execution_count": 1,
   "id": "abe3c123",
   "metadata": {},
   "outputs": [],
   "source": [
    "import numpy as np"
   ]
  },
  {
   "cell_type": "code",
   "execution_count": 2,
   "id": "5de5dd4c",
   "metadata": {},
   "outputs": [],
   "source": [
    "a = np.array( [17, 11, 19] ) # 1x3 dimension array"
   ]
  },
  {
   "cell_type": "code",
   "execution_count": 3,
   "id": "6d0ef5e7",
   "metadata": {},
   "outputs": [
    {
     "name": "stdout",
     "output_type": "stream",
     "text": [
      "[17 11 19]\n"
     ]
    }
   ],
   "source": [
    "print(a)"
   ]
  },
  {
   "cell_type": "code",
   "execution_count": 6,
   "id": "4df88676",
   "metadata": {},
   "outputs": [
    {
     "name": "stdout",
     "output_type": "stream",
     "text": [
      "3\n"
     ]
    }
   ],
   "source": [
    "b = 3\n",
    "print(b)"
   ]
  },
  {
   "cell_type": "code",
   "execution_count": 7,
   "id": "64427cb6",
   "metadata": {},
   "outputs": [
    {
     "name": "stdout",
     "output_type": "stream",
     "text": [
      "[20 14 22]\n"
     ]
    }
   ],
   "source": [
    "# broadcasting happened because of\n",
    "# miss match in array Dimension\n",
    "c = a + b\n",
    "print(c)"
   ]
  },
  {
   "cell_type": "markdown",
   "id": "f0627ba3",
   "metadata": {},
   "source": [
    "### Example#2: Two Dimensioanal Array"
   ]
  },
  {
   "cell_type": "code",
   "execution_count": 8,
   "id": "a2babf16",
   "metadata": {},
   "outputs": [
    {
     "name": "stdout",
     "output_type": "stream",
     "text": [
      "[[11 22 33]\n",
      " [10 20 30]]\n"
     ]
    }
   ],
   "source": [
    "A = np.array( [ [11, 22, 33], [10, 20, 30] ] )\n",
    "print(A)"
   ]
  },
  {
   "cell_type": "code",
   "execution_count": 9,
   "id": "7f8101bf",
   "metadata": {},
   "outputs": [
    {
     "name": "stdout",
     "output_type": "stream",
     "text": [
      "4\n"
     ]
    }
   ],
   "source": [
    "b = 4\n",
    "print(b)"
   ]
  },
  {
   "cell_type": "code",
   "execution_count": 11,
   "id": "6b5ee4b5",
   "metadata": {},
   "outputs": [
    {
     "name": "stdout",
     "output_type": "stream",
     "text": [
      "[[15 26 37]\n",
      " [14 24 34]]\n"
     ]
    }
   ],
   "source": [
    "C = A + b\n",
    "print(C)"
   ]
  },
  {
   "cell_type": "markdown",
   "id": "9869e821",
   "metadata": {},
   "source": [
    "### Example3:"
   ]
  },
  {
   "cell_type": "code",
   "execution_count": 12,
   "id": "b352ce99",
   "metadata": {},
   "outputs": [],
   "source": [
    "v = np.array( [12, 24, 36] )\n",
    "w = np.array( [45, 55] )"
   ]
  },
  {
   "cell_type": "code",
   "execution_count": 15,
   "id": "159bbd57",
   "metadata": {},
   "outputs": [
    {
     "name": "stdout",
     "output_type": "stream",
     "text": [
      "[[ 540  660]\n",
      " [1080 1320]\n",
      " [1620 1980]]\n"
     ]
    }
   ],
   "source": [
    "# to compute an outer product we first\n",
    "# reshape v to a column vector of shape 3x1\n",
    "# then broadcast it against w to yield an output\n",
    "# of shape 3x2 which is the outer product of v and w\n",
    "print(np.reshape(v, (3,1)) * w )"
   ]
  },
  {
   "cell_type": "code",
   "execution_count": 19,
   "id": "482ffd03",
   "metadata": {},
   "outputs": [
    {
     "name": "stdout",
     "output_type": "stream",
     "text": [
      "[[12 22 33]\n",
      " [45 55 66]]\n"
     ]
    }
   ],
   "source": [
    "X = np.array([[12, 22, 33], [45, 55, 66]])\n",
    "print(X)"
   ]
  },
  {
   "cell_type": "code",
   "execution_count": 20,
   "id": "a3f51815",
   "metadata": {},
   "outputs": [
    {
     "name": "stdout",
     "output_type": "stream",
     "text": [
      "[[12]\n",
      " [24]\n",
      " [36]]\n"
     ]
    }
   ],
   "source": [
    "print(np.reshape(v, (3,1)))"
   ]
  },
  {
   "cell_type": "code",
   "execution_count": 21,
   "id": "d59b3b5b",
   "metadata": {},
   "outputs": [
    {
     "name": "stdout",
     "output_type": "stream",
     "text": [
      "[12 24 36]\n"
     ]
    }
   ],
   "source": [
    "print(v)"
   ]
  },
  {
   "cell_type": "code",
   "execution_count": 17,
   "id": "237ad7f4",
   "metadata": {},
   "outputs": [
    {
     "name": "stdout",
     "output_type": "stream",
     "text": [
      "[[ 24  46  69]\n",
      " [ 57  79 102]]\n"
     ]
    }
   ],
   "source": [
    "# x has shape  2x3 and v has shape (3, )\n",
    "# so they broadcast to 2x3,\n",
    "print(X + v)"
   ]
  },
  {
   "cell_type": "code",
   "execution_count": 8,
   "id": "8449b0ed",
   "metadata": {},
   "outputs": [],
   "source": [
    "d={}\n",
    "\n",
    "for _ in range(20000):\n",
    "    val=np.random.randint(1,11)\n",
    "    if val not in d:\n",
    "        d[val] = 1\n",
    "    else:\n",
    "        d[val] += 1"
   ]
  },
  {
   "cell_type": "code",
   "execution_count": null,
   "id": "ee85031e",
   "metadata": {},
   "outputs": [],
   "source": []
  }
 ],
 "metadata": {
  "kernelspec": {
   "display_name": "Python 3",
   "language": "python",
   "name": "python3"
  },
  "language_info": {
   "codemirror_mode": {
    "name": "ipython",
    "version": 3
   },
   "file_extension": ".py",
   "mimetype": "text/x-python",
   "name": "python",
   "nbconvert_exporter": "python",
   "pygments_lexer": "ipython3",
   "version": "3.8.8"
  }
 },
 "nbformat": 4,
 "nbformat_minor": 5
}
