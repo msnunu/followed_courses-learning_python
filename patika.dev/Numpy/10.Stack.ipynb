{
 "cells": [
  {
   "cell_type": "code",
   "execution_count": 4,
   "id": "2795c14f",
   "metadata": {},
   "outputs": [],
   "source": [
    "import numpy as np"
   ]
  },
  {
   "cell_type": "markdown",
   "id": "f8fc4ddf",
   "metadata": {},
   "source": [
    "#### stack: stack mantığını yeni dimension ekleyip o dimension üzerinde concentenation yaparak da sağlayabiliriz"
   ]
  },
  {
   "cell_type": "code",
   "execution_count": 5,
   "id": "913b9a6e",
   "metadata": {},
   "outputs": [],
   "source": [
    "a = np.array( [1,2,3,4])"
   ]
  },
  {
   "cell_type": "code",
   "execution_count": 6,
   "id": "fe18d8be",
   "metadata": {},
   "outputs": [],
   "source": [
    "b = np.array( [5,6,7,8])"
   ]
  },
  {
   "cell_type": "code",
   "execution_count": 7,
   "id": "88a91ff6",
   "metadata": {},
   "outputs": [
    {
     "data": {
      "text/plain": [
       "(4,)"
      ]
     },
     "execution_count": 7,
     "metadata": {},
     "output_type": "execute_result"
    }
   ],
   "source": [
    "a.shape"
   ]
  },
  {
   "cell_type": "code",
   "execution_count": 8,
   "id": "814942f5",
   "metadata": {},
   "outputs": [
    {
     "data": {
      "text/plain": [
       "(4,)"
      ]
     },
     "execution_count": 8,
     "metadata": {},
     "output_type": "execute_result"
    }
   ],
   "source": [
    "b.shape"
   ]
  },
  {
   "cell_type": "code",
   "execution_count": 26,
   "id": "04fdd53b",
   "metadata": {},
   "outputs": [
    {
     "data": {
      "text/plain": [
       "array([1, 2, 3, 4, 5, 6, 7, 8])"
      ]
     },
     "execution_count": 26,
     "metadata": {},
     "output_type": "execute_result"
    }
   ],
   "source": [
    "np.concatenate([a,b])"
   ]
  },
  {
   "cell_type": "code",
   "execution_count": 10,
   "id": "c1448867",
   "metadata": {},
   "outputs": [
    {
     "data": {
      "text/plain": [
       "array([1, 2, 3, 4, 5, 6, 7, 8])"
      ]
     },
     "execution_count": 10,
     "metadata": {},
     "output_type": "execute_result"
    }
   ],
   "source": [
    "np.concatenate([a,b], axis = 0)"
   ]
  },
  {
   "cell_type": "code",
   "execution_count": 11,
   "id": "0e33eb5c",
   "metadata": {},
   "outputs": [
    {
     "ename": "AxisError",
     "evalue": "axis 1 is out of bounds for array of dimension 1",
     "output_type": "error",
     "traceback": [
      "\u001b[1;31m---------------------------------------------------------------------------\u001b[0m",
      "\u001b[1;31mAxisError\u001b[0m                                 Traceback (most recent call last)",
      "\u001b[1;32m<ipython-input-11-2a280e099312>\u001b[0m in \u001b[0;36m<module>\u001b[1;34m\u001b[0m\n\u001b[1;32m----> 1\u001b[1;33m \u001b[0mnp\u001b[0m\u001b[1;33m.\u001b[0m\u001b[0mconcatenate\u001b[0m\u001b[1;33m(\u001b[0m \u001b[1;33m[\u001b[0m\u001b[0ma\u001b[0m\u001b[1;33m,\u001b[0m\u001b[0mb\u001b[0m\u001b[1;33m]\u001b[0m \u001b[1;33m,\u001b[0m \u001b[0maxis\u001b[0m \u001b[1;33m=\u001b[0m \u001b[1;36m1\u001b[0m \u001b[1;33m)\u001b[0m\u001b[1;33m\u001b[0m\u001b[1;33m\u001b[0m\u001b[0m\n\u001b[0m",
      "\u001b[1;32m<__array_function__ internals>\u001b[0m in \u001b[0;36mconcatenate\u001b[1;34m(*args, **kwargs)\u001b[0m\n",
      "\u001b[1;31mAxisError\u001b[0m: axis 1 is out of bounds for array of dimension 1"
     ]
    }
   ],
   "source": [
    "np.concatenate( [a,b] , axis = 1 )"
   ]
  },
  {
   "cell_type": "markdown",
   "id": "77d1d11c",
   "metadata": {},
   "source": [
    "#### default olarak -0 da birleştirme yapacak"
   ]
  },
  {
   "cell_type": "code",
   "execution_count": 14,
   "id": "b41e4ca7",
   "metadata": {},
   "outputs": [
    {
     "data": {
      "text/plain": [
       "array([[1, 2, 3, 4],\n",
       "       [5, 6, 7, 8]])"
      ]
     },
     "execution_count": 14,
     "metadata": {},
     "output_type": "execute_result"
    }
   ],
   "source": [
    "np.stack( [a,b] ) # axis = 0 üzerinde birleştirir"
   ]
  },
  {
   "cell_type": "code",
   "execution_count": 15,
   "id": "652f1f7a",
   "metadata": {},
   "outputs": [
    {
     "data": {
      "text/plain": [
       "(2, 4)"
      ]
     },
     "execution_count": 15,
     "metadata": {},
     "output_type": "execute_result"
    }
   ],
   "source": [
    "np.stack( [a,b] ).shape # stack ile dimension kazandı"
   ]
  },
  {
   "cell_type": "code",
   "execution_count": 16,
   "id": "a26444b7",
   "metadata": {},
   "outputs": [],
   "source": [
    "arrays = [np.random.randn(3, 4) for _ in range(10)]"
   ]
  },
  {
   "cell_type": "code",
   "execution_count": 17,
   "id": "ac60fc5a",
   "metadata": {},
   "outputs": [
    {
     "data": {
      "text/plain": [
       "[array([[ 1.1842813 ,  0.91135896, -0.88579772, -0.49772469],\n",
       "        [ 1.01358773,  0.47293236, -1.65283004, -1.49167657],\n",
       "        [-0.35026987,  1.88568219,  0.42796922,  0.50808188]]),\n",
       " array([[-2.10576734e-01,  8.17205590e-01,  4.78127604e-01,\n",
       "          2.68927029e-01],\n",
       "        [-1.31148258e+00, -6.70563151e-01, -6.63529329e-01,\n",
       "          3.46174361e-01],\n",
       "        [-7.59275788e-01,  1.23818053e+00, -9.42834315e-01,\n",
       "         -1.02861693e-03]]),\n",
       " array([[ 0.70007269,  1.14981003, -0.68318105, -2.06867386],\n",
       "        [ 1.0637174 ,  0.44506073, -0.36990334, -0.60742257],\n",
       "        [ 0.79393508, -1.24337886,  1.42520919,  1.55835945]]),\n",
       " array([[ 0.1018272 ,  0.32974081, -0.43410852,  1.83354345],\n",
       "        [ 0.05895334,  1.61027489, -0.54231124, -0.26617694],\n",
       "        [-0.66146279, -0.39707952, -0.54119859,  0.77049706]]),\n",
       " array([[-0.15234005, -0.58859035, -0.09858198, -1.70434349],\n",
       "        [ 0.03554032, -0.80304033,  0.3531662 , -0.21444372],\n",
       "        [-0.50822649, -1.42830334,  0.0939001 , -0.92101135]]),\n",
       " array([[ 0.24425324,  0.62585947, -0.44883237,  1.14428372],\n",
       "        [-0.32958611, -0.39522108,  0.76329556,  0.04056104],\n",
       "        [ 0.05560179, -0.17514963,  0.89248317, -0.69609215]]),\n",
       " array([[-2.16102625, -0.77298015,  0.40760292, -1.13972657],\n",
       "        [ 0.02624804, -0.05451285, -0.68051665,  0.43602125],\n",
       "        [ 0.38234303,  0.10649237,  0.68948737, -0.28994137]]),\n",
       " array([[ 0.12144025,  1.67236579,  0.45543938, -0.3310446 ],\n",
       "        [ 1.33119233, -0.82889253,  0.12225011,  0.27276962],\n",
       "        [ 0.3489876 ,  0.16609256, -1.34208537,  1.73625246]]),\n",
       " array([[-0.39102296,  1.76957688, -0.81690227,  0.51933369],\n",
       "        [ 0.47565324, -1.16968879,  0.18399126,  0.700137  ],\n",
       "        [-1.4164306 ,  0.81422204, -0.08354572,  0.05405336]]),\n",
       " array([[ 0.49845683,  0.85711091, -0.65018994,  1.3099255 ],\n",
       "        [-0.03752317,  0.88780486, -0.74448402, -1.05065917],\n",
       "        [ 1.6987866 , -0.39837348,  0.26493524, -1.43633173]])]"
      ]
     },
     "execution_count": 17,
     "metadata": {},
     "output_type": "execute_result"
    }
   ],
   "source": [
    "arrays"
   ]
  },
  {
   "cell_type": "code",
   "execution_count": 19,
   "id": "c3d2abe6",
   "metadata": {},
   "outputs": [
    {
     "data": {
      "text/plain": [
       "(10, 3, 4)"
      ]
     },
     "execution_count": 19,
     "metadata": {},
     "output_type": "execute_result"
    }
   ],
   "source": [
    "np.stack(arrays, axis=0).shape"
   ]
  },
  {
   "cell_type": "code",
   "execution_count": 20,
   "id": "5b8b7928",
   "metadata": {},
   "outputs": [
    {
     "data": {
      "text/plain": [
       "(3, 10, 4)"
      ]
     },
     "execution_count": 20,
     "metadata": {},
     "output_type": "execute_result"
    }
   ],
   "source": [
    "np.stack(arrays, axis=1).shape"
   ]
  },
  {
   "cell_type": "code",
   "execution_count": 22,
   "id": "5b91f4ba",
   "metadata": {},
   "outputs": [
    {
     "data": {
      "text/plain": [
       "(3, 4, 10)"
      ]
     },
     "execution_count": 22,
     "metadata": {},
     "output_type": "execute_result"
    }
   ],
   "source": [
    "np.stack(arrays, axis=2).shape"
   ]
  },
  {
   "cell_type": "code",
   "execution_count": 24,
   "id": "747eaa99",
   "metadata": {},
   "outputs": [
    {
     "data": {
      "text/plain": [
       "array([[-1.64854823, -0.84169585,  0.46931759,  0.65611288],\n",
       "       [ 0.16488677,  0.22231951,  0.25531581, -0.0802786 ],\n",
       "       [-0.89775934, -0.94788582,  0.42098892,  1.20726637]])"
      ]
     },
     "execution_count": 24,
     "metadata": {},
     "output_type": "execute_result"
    }
   ],
   "source": [
    "np.random.randn(3,4)"
   ]
  },
  {
   "cell_type": "code",
   "execution_count": 27,
   "id": "18072f67",
   "metadata": {},
   "outputs": [
    {
     "data": {
      "text/plain": [
       "array([1, 2, 3, 4])"
      ]
     },
     "execution_count": 27,
     "metadata": {},
     "output_type": "execute_result"
    }
   ],
   "source": [
    "a"
   ]
  },
  {
   "cell_type": "code",
   "execution_count": 28,
   "id": "4a8337a3",
   "metadata": {},
   "outputs": [
    {
     "data": {
      "text/plain": [
       "array([5, 6, 7, 8])"
      ]
     },
     "execution_count": 28,
     "metadata": {},
     "output_type": "execute_result"
    }
   ],
   "source": [
    "b"
   ]
  },
  {
   "cell_type": "code",
   "execution_count": 32,
   "id": "d5ee2075",
   "metadata": {},
   "outputs": [
    {
     "data": {
      "text/plain": [
       "array([[1, 2, 3, 4],\n",
       "       [5, 6, 7, 8]])"
      ]
     },
     "execution_count": 32,
     "metadata": {},
     "output_type": "execute_result"
    }
   ],
   "source": [
    "np.stack((a,b))"
   ]
  },
  {
   "cell_type": "code",
   "execution_count": 33,
   "id": "1bbfe46d",
   "metadata": {},
   "outputs": [
    {
     "data": {
      "text/plain": [
       "array([[1, 2, 3, 4],\n",
       "       [5, 6, 7, 8]])"
      ]
     },
     "execution_count": 33,
     "metadata": {},
     "output_type": "execute_result"
    }
   ],
   "source": [
    "np.stack((a,b), axis=0)"
   ]
  },
  {
   "cell_type": "code",
   "execution_count": 40,
   "id": "378f5fdd",
   "metadata": {},
   "outputs": [
    {
     "data": {
      "text/plain": [
       "array([[1, 5],\n",
       "       [2, 6],\n",
       "       [3, 7],\n",
       "       [4, 8]])"
      ]
     },
     "execution_count": 40,
     "metadata": {},
     "output_type": "execute_result"
    }
   ],
   "source": [
    "np.stack((a,b), axis=1)"
   ]
  },
  {
   "cell_type": "code",
   "execution_count": 39,
   "id": "d01d06c9",
   "metadata": {},
   "outputs": [
    {
     "data": {
      "text/plain": [
       "array([[1, 5],\n",
       "       [2, 6],\n",
       "       [3, 7],\n",
       "       [4, 8]])"
      ]
     },
     "execution_count": 39,
     "metadata": {},
     "output_type": "execute_result"
    }
   ],
   "source": [
    "np.stack((a,b), axis=-1)"
   ]
  },
  {
   "cell_type": "markdown",
   "id": "7eb51360",
   "metadata": {},
   "source": [
    "#### stack mantığı yeni bir dimension yarat, üzerinde birleştir"
   ]
  },
  {
   "cell_type": "markdown",
   "id": "eaa1f9cb",
   "metadata": {},
   "source": [
    " ### stack implementation using list"
   ]
  },
  {
   "cell_type": "code",
   "execution_count": 43,
   "id": "02099826",
   "metadata": {},
   "outputs": [],
   "source": [
    "stack = [ ]"
   ]
  },
  {
   "cell_type": "code",
   "execution_count": 44,
   "id": "112cd320",
   "metadata": {},
   "outputs": [],
   "source": [
    "# append( ) function to push element in the stack\n",
    "stack.append(' a ')\n",
    "stack.append(' b ')\n",
    "stack.append(' c ')"
   ]
  },
  {
   "cell_type": "code",
   "execution_count": 45,
   "id": "26a44c9b",
   "metadata": {},
   "outputs": [
    {
     "data": {
      "text/plain": [
       "[' a ', ' b ', ' c ']"
      ]
     },
     "execution_count": 45,
     "metadata": {},
     "output_type": "execute_result"
    }
   ],
   "source": [
    "stack"
   ]
  },
  {
   "cell_type": "code",
   "execution_count": 46,
   "id": "7aabb6d7",
   "metadata": {},
   "outputs": [
    {
     "name": "stdout",
     "output_type": "stream",
     "text": [
      "ınitial stack\n",
      "[' a ', ' b ', ' c ']\n"
     ]
    }
   ],
   "source": [
    "print('ınitial stack')\n",
    "print(stack)"
   ]
  },
  {
   "cell_type": "code",
   "execution_count": 47,
   "id": "c4498096",
   "metadata": {},
   "outputs": [
    {
     "name": "stdout",
     "output_type": "stream",
     "text": [
      "/nElements popped from stack: \n",
      " c \n"
     ]
    }
   ],
   "source": [
    "# pop( ) function to pop element from stack in LIFO order(Last In First Out)\n",
    "print('/nElements popped from stack: ')\n",
    "print(stack.pop( ))"
   ]
  },
  {
   "cell_type": "code",
   "execution_count": 48,
   "id": "5c9eb5bf",
   "metadata": {},
   "outputs": [
    {
     "name": "stdout",
     "output_type": "stream",
     "text": [
      " b \n"
     ]
    }
   ],
   "source": [
    "print(stack.pop( ))"
   ]
  },
  {
   "cell_type": "code",
   "execution_count": 49,
   "id": "5d39114a",
   "metadata": {},
   "outputs": [
    {
     "name": "stdout",
     "output_type": "stream",
     "text": [
      " a \n"
     ]
    }
   ],
   "source": [
    "print(stack.pop( ))"
   ]
  },
  {
   "cell_type": "code",
   "execution_count": 50,
   "id": "c7f14a68",
   "metadata": {},
   "outputs": [
    {
     "ename": "IndexError",
     "evalue": "pop from empty list",
     "output_type": "error",
     "traceback": [
      "\u001b[1;31m---------------------------------------------------------------------------\u001b[0m",
      "\u001b[1;31mIndexError\u001b[0m                                Traceback (most recent call last)",
      "\u001b[1;32m<ipython-input-50-f9424b63e748>\u001b[0m in \u001b[0;36m<module>\u001b[1;34m\u001b[0m\n\u001b[1;32m----> 1\u001b[1;33m \u001b[0mprint\u001b[0m\u001b[1;33m(\u001b[0m\u001b[0mstack\u001b[0m\u001b[1;33m.\u001b[0m\u001b[0mpop\u001b[0m\u001b[1;33m(\u001b[0m \u001b[1;33m)\u001b[0m\u001b[1;33m)\u001b[0m \u001b[1;31m#IndexError: pop from epmty list\u001b[0m\u001b[1;33m\u001b[0m\u001b[1;33m\u001b[0m\u001b[0m\n\u001b[0m",
      "\u001b[1;31mIndexError\u001b[0m: pop from empty list"
     ]
    }
   ],
   "source": [
    "print(stack.pop( )) #IndexError: pop from epmty list"
   ]
  },
  {
   "cell_type": "code",
   "execution_count": 51,
   "id": "5af0c779",
   "metadata": {},
   "outputs": [
    {
     "name": "stdout",
     "output_type": "stream",
     "text": [
      "[]\n"
     ]
    }
   ],
   "source": [
    "print(stack)"
   ]
  },
  {
   "cell_type": "markdown",
   "id": "71bf4561",
   "metadata": {},
   "source": [
    "### implementation using collections.deque"
   ]
  },
  {
   "cell_type": "markdown",
   "id": "10866561",
   "metadata": {},
   "source": [
    "##### deque is preferred over list in the cases where we need quicker append and pop operations from both the ends of container"
   ]
  },
  {
   "cell_type": "code",
   "execution_count": 3,
   "id": "099a5c48",
   "metadata": {},
   "outputs": [],
   "source": [
    "from collections import deque"
   ]
  },
  {
   "cell_type": "code",
   "execution_count": 4,
   "id": "66cba20d",
   "metadata": {},
   "outputs": [],
   "source": [
    "stack = deque()"
   ]
  },
  {
   "cell_type": "code",
   "execution_count": 5,
   "id": "2dec1d5d",
   "metadata": {},
   "outputs": [],
   "source": [
    "# append() function to push element in the stack\n",
    "stack. append('a')"
   ]
  },
  {
   "cell_type": "code",
   "execution_count": 6,
   "id": "2dc29ad1",
   "metadata": {},
   "outputs": [
    {
     "data": {
      "text/plain": [
       "collections.deque"
      ]
     },
     "execution_count": 6,
     "metadata": {},
     "output_type": "execute_result"
    }
   ],
   "source": [
    "type(stack)"
   ]
  },
  {
   "cell_type": "code",
   "execution_count": 7,
   "id": "f6e91ab5",
   "metadata": {},
   "outputs": [],
   "source": [
    "stack.append('b')"
   ]
  },
  {
   "cell_type": "code",
   "execution_count": 8,
   "id": "88db2f43",
   "metadata": {},
   "outputs": [],
   "source": [
    "stack.append('c')"
   ]
  },
  {
   "cell_type": "code",
   "execution_count": 9,
   "id": "6687a8d0",
   "metadata": {},
   "outputs": [
    {
     "name": "stdout",
     "output_type": "stream",
     "text": [
      "Initial stak: \n",
      "deque(['a', 'b', 'c'])\n"
     ]
    }
   ],
   "source": [
    "print('Initial stak: ')\n",
    "print(stack)"
   ]
  },
  {
   "cell_type": "code",
   "execution_count": 10,
   "id": "448ef968",
   "metadata": {},
   "outputs": [
    {
     "name": "stdout",
     "output_type": "stream",
     "text": [
      "Elements popped from stack: \n",
      "c\n",
      "b\n",
      "a\n"
     ]
    }
   ],
   "source": [
    "# pop() function to pop elements from stack in LIFO order\n",
    "print(\"Elements popped from stack: \")\n",
    "print(stack.pop())\n",
    "print(stack.pop())\n",
    "print(stack.pop())"
   ]
  },
  {
   "cell_type": "code",
   "execution_count": 11,
   "id": "9aa143e3",
   "metadata": {},
   "outputs": [
    {
     "name": "stdout",
     "output_type": "stream",
     "text": [
      "\n",
      "Stack after elements are popped: \n",
      "deque([])\n"
     ]
    }
   ],
   "source": [
    "print('\\nStack after elements are popped: ')\n",
    "print(stack)"
   ]
  },
  {
   "cell_type": "markdown",
   "id": "25b0177c",
   "metadata": {},
   "source": [
    "### implementation using queue module"
   ]
  },
  {
   "cell_type": "markdown",
   "id": "8688190a",
   "metadata": {},
   "source": [
    "#### queue module also has a LIFO Queue, which is basically a Stack. Data is inserted into Queue using the put() function and get() takes data out from the Queue"
   ]
  },
  {
   "cell_type": "code",
   "execution_count": 78,
   "id": "e726dbf4",
   "metadata": {},
   "outputs": [],
   "source": [
    "from queue import LifoQueue"
   ]
  },
  {
   "cell_type": "code",
   "execution_count": 79,
   "id": "1a476d17",
   "metadata": {},
   "outputs": [],
   "source": [
    "# initializing a stack\n",
    "stack = LifoQueue(maxsize=3)"
   ]
  },
  {
   "cell_type": "code",
   "execution_count": 80,
   "id": "47545f42",
   "metadata": {},
   "outputs": [
    {
     "name": "stdout",
     "output_type": "stream",
     "text": [
      "0\n"
     ]
    }
   ],
   "source": [
    "# qsizie() show the number of elements in the stack\n",
    "print(stack.qsize() )"
   ]
  },
  {
   "cell_type": "code",
   "execution_count": 84,
   "id": "8d00e517",
   "metadata": {},
   "outputs": [
    {
     "name": "stdout",
     "output_type": "stream",
     "text": [
      "3\n"
     ]
    }
   ],
   "source": [
    "print(stack.maxsize)"
   ]
  },
  {
   "cell_type": "code",
   "execution_count": 85,
   "id": "60f920c2",
   "metadata": {},
   "outputs": [],
   "source": [
    "# put() function to push element in the stack\n",
    "stack.put('a')\n",
    "stack.put('b')\n",
    "stack.put('c')"
   ]
  },
  {
   "cell_type": "code",
   "execution_count": 88,
   "id": "0023cd35",
   "metadata": {},
   "outputs": [
    {
     "name": "stdout",
     "output_type": "stream",
     "text": [
      "<queue.LifoQueue object at 0x000002656D5D2EB0>\n"
     ]
    }
   ],
   "source": [
    "print(stack)"
   ]
  },
  {
   "cell_type": "code",
   "execution_count": 94,
   "id": "edd5e4d3",
   "metadata": {},
   "outputs": [
    {
     "name": "stdout",
     "output_type": "stream",
     "text": [
      "Full:  True\n"
     ]
    }
   ],
   "source": [
    "print(\"Full: \", stack.full())\n"
   ]
  },
  {
   "cell_type": "code",
   "execution_count": 95,
   "id": "c79c0616",
   "metadata": {},
   "outputs": [
    {
     "name": "stdout",
     "output_type": "stream",
     "text": [
      "Size:  3\n"
     ]
    }
   ],
   "source": [
    "print(\"Size: \", stack.qsize())"
   ]
  },
  {
   "cell_type": "code",
   "execution_count": 96,
   "id": "435b270a",
   "metadata": {},
   "outputs": [
    {
     "name": "stdout",
     "output_type": "stream",
     "text": [
      "\n",
      "Elements popped from the stack\n",
      "c\n",
      "b\n",
      "a\n"
     ]
    }
   ],
   "source": [
    "# get() function to pop element from stack in LIFO order\n",
    "print('\\nElements popped from the stack')\n",
    "print(stack.get())\n",
    "print(stack.get())\n",
    "print(stack.get())"
   ]
  },
  {
   "cell_type": "code",
   "execution_count": 97,
   "id": "066affd9",
   "metadata": {},
   "outputs": [
    {
     "name": "stdout",
     "output_type": "stream",
     "text": [
      "Empty:  True\n"
     ]
    }
   ],
   "source": [
    "print(\"Empty: \", stack.empty())"
   ]
  },
  {
   "cell_type": "code",
   "execution_count": 1,
   "id": "3d2f8d16",
   "metadata": {},
   "outputs": [
    {
     "ename": "ModuleNotFoundError",
     "evalue": "No module named 'jupyterthemes'",
     "output_type": "error",
     "traceback": [
      "\u001b[1;31m---------------------------------------------------------------------------\u001b[0m",
      "\u001b[1;31mModuleNotFoundError\u001b[0m                       Traceback (most recent call last)",
      "\u001b[1;32m<ipython-input-1-562c3c1f2d8c>\u001b[0m in \u001b[0;36m<module>\u001b[1;34m\u001b[0m\n\u001b[1;32m----> 1\u001b[1;33m \u001b[1;32mfrom\u001b[0m \u001b[0mjupyterthemes\u001b[0m \u001b[1;32mimport\u001b[0m \u001b[0mget_themes\u001b[0m\u001b[1;33m\u001b[0m\u001b[1;33m\u001b[0m\u001b[0m\n\u001b[0m\u001b[0;32m      2\u001b[0m \u001b[1;32mimport\u001b[0m \u001b[0mjupyterthemes\u001b[0m \u001b[1;32mas\u001b[0m \u001b[0mjt\u001b[0m\u001b[1;33m\u001b[0m\u001b[1;33m\u001b[0m\u001b[0m\n\u001b[0;32m      3\u001b[0m \u001b[1;32mfrom\u001b[0m \u001b[0mjupyterthemes\u001b[0m\u001b[1;33m.\u001b[0m\u001b[0mstylefx\u001b[0m \u001b[1;32mimport\u001b[0m \u001b[0mset_nb_theme\u001b[0m\u001b[1;33m\u001b[0m\u001b[1;33m\u001b[0m\u001b[0m\n",
      "\u001b[1;31mModuleNotFoundError\u001b[0m: No module named 'jupyterthemes'"
     ]
    }
   ],
   "source": []
  },
  {
   "cell_type": "code",
   "execution_count": null,
   "id": "034673dd",
   "metadata": {},
   "outputs": [],
   "source": []
  }
 ],
 "metadata": {
  "kernelspec": {
   "display_name": "Python 3",
   "language": "python",
   "name": "python3"
  },
  "language_info": {
   "codemirror_mode": {
    "name": "ipython",
    "version": 3
   },
   "file_extension": ".py",
   "mimetype": "text/x-python",
   "name": "python",
   "nbconvert_exporter": "python",
   "pygments_lexer": "ipython3",
   "version": "3.8.8"
  }
 },
 "nbformat": 4,
 "nbformat_minor": 5
}
