{
 "cells": [
  {
   "cell_type": "code",
   "execution_count": 1,
   "id": "b5bc8ab5",
   "metadata": {},
   "outputs": [],
   "source": [
    "import numpy as np"
   ]
  },
  {
   "cell_type": "markdown",
   "id": "29e1f47a",
   "metadata": {},
   "source": [
    "### Numpy Array"
   ]
  },
  {
   "cell_type": "code",
   "execution_count": 2,
   "id": "dd25c72f",
   "metadata": {},
   "outputs": [],
   "source": [
    "# numpay arrayleri python listelerine benziyor\n",
    "## ama onların aksine farklı veri tiplerinde elemanlar içermez Tek veri tipinde elemanları olması gerekiyor."
   ]
  },
  {
   "cell_type": "markdown",
   "id": "b9ea9013",
   "metadata": {},
   "source": [
    "### Listlerden Array Yaratmak"
   ]
  },
  {
   "cell_type": "code",
   "execution_count": 3,
   "id": "c507c245",
   "metadata": {},
   "outputs": [],
   "source": [
    "x = np.array( [1, 2, 3, 4] )"
   ]
  },
  {
   "cell_type": "code",
   "execution_count": 4,
   "id": "7dafc6b5",
   "metadata": {},
   "outputs": [
    {
     "data": {
      "text/plain": [
       "array([1, 2, 3, 4])"
      ]
     },
     "execution_count": 4,
     "metadata": {},
     "output_type": "execute_result"
    }
   ],
   "source": [
    "x"
   ]
  },
  {
   "cell_type": "code",
   "execution_count": 5,
   "id": "3ef3f662",
   "metadata": {},
   "outputs": [
    {
     "data": {
      "text/plain": [
       "numpy.ndarray"
      ]
     },
     "execution_count": 5,
     "metadata": {},
     "output_type": "execute_result"
    }
   ],
   "source": [
    "type(x)"
   ]
  },
  {
   "cell_type": "code",
   "execution_count": 6,
   "id": "d4828c73",
   "metadata": {},
   "outputs": [],
   "source": [
    "y = np.array( [\"a\", \"b\", \"c\"] )"
   ]
  },
  {
   "cell_type": "code",
   "execution_count": 7,
   "id": "11a5aabe",
   "metadata": {},
   "outputs": [
    {
     "data": {
      "text/plain": [
       "array(['a', 'b', 'c'], dtype='<U1')"
      ]
     },
     "execution_count": 7,
     "metadata": {},
     "output_type": "execute_result"
    }
   ],
   "source": [
    "y"
   ]
  },
  {
   "cell_type": "code",
   "execution_count": 8,
   "id": "1d9bec09",
   "metadata": {},
   "outputs": [
    {
     "data": {
      "text/plain": [
       "numpy.ndarray"
      ]
     },
     "execution_count": 8,
     "metadata": {},
     "output_type": "execute_result"
    }
   ],
   "source": [
    "type(y)"
   ]
  },
  {
   "cell_type": "markdown",
   "id": "cda8956d",
   "metadata": {},
   "source": [
    "### Array elemanları homojen olmalı"
   ]
  },
  {
   "cell_type": "code",
   "execution_count": 9,
   "id": "38ebe7bb",
   "metadata": {},
   "outputs": [],
   "source": [
    "# hem string hem integer bulundurursam---> hepsi stringe cast edilir"
   ]
  },
  {
   "cell_type": "code",
   "execution_count": 10,
   "id": "efcfaf3f",
   "metadata": {},
   "outputs": [],
   "source": [
    "z = np.array( [2, 3, 4, \"a\"] )"
   ]
  },
  {
   "cell_type": "code",
   "execution_count": 11,
   "id": "b15ddb46",
   "metadata": {},
   "outputs": [
    {
     "data": {
      "text/plain": [
       "array(['2', '3', '4', 'a'], dtype='<U11')"
      ]
     },
     "execution_count": 11,
     "metadata": {},
     "output_type": "execute_result"
    }
   ],
   "source": [
    "z"
   ]
  },
  {
   "cell_type": "code",
   "execution_count": 12,
   "id": "16825cba",
   "metadata": {},
   "outputs": [],
   "source": [
    "a = np.array( [1, 2.9, 3, 5] )"
   ]
  },
  {
   "cell_type": "code",
   "execution_count": 13,
   "id": "eb63160f",
   "metadata": {},
   "outputs": [
    {
     "data": {
      "text/plain": [
       "array([1. , 2.9, 3. , 5. ])"
      ]
     },
     "execution_count": 13,
     "metadata": {},
     "output_type": "execute_result"
    }
   ],
   "source": [
    "a"
   ]
  },
  {
   "cell_type": "code",
   "execution_count": 14,
   "id": "1ad45324",
   "metadata": {},
   "outputs": [
    {
     "data": {
      "text/plain": [
       "numpy.ndarray"
      ]
     },
     "execution_count": 14,
     "metadata": {},
     "output_type": "execute_result"
    }
   ],
   "source": [
    "type(a)"
   ]
  },
  {
   "cell_type": "code",
   "execution_count": 16,
   "id": "3b91f3b8",
   "metadata": {},
   "outputs": [],
   "source": [
    "x = np.array( [1,2,\"3\", \"a\", 4,7, 9] )"
   ]
  },
  {
   "cell_type": "code",
   "execution_count": 17,
   "id": "60fc4da9",
   "metadata": {},
   "outputs": [
    {
     "data": {
      "text/plain": [
       "array(['1', '2', '3', 'a', '4', '7', '9'], dtype='<U11')"
      ]
     },
     "execution_count": 17,
     "metadata": {},
     "output_type": "execute_result"
    }
   ],
   "source": [
    "x"
   ]
  },
  {
   "cell_type": "markdown",
   "id": "59967d53",
   "metadata": {},
   "source": [
    "### Array Data Tipini Manuel Belirtmek"
   ]
  },
  {
   "cell_type": "code",
   "execution_count": 18,
   "id": "a29cb95e",
   "metadata": {},
   "outputs": [],
   "source": [
    "# Array' in elemanlarının tipinin ne olacağını özellikle belirtebiliriz"
   ]
  },
  {
   "cell_type": "code",
   "execution_count": 19,
   "id": "c4a62086",
   "metadata": {},
   "outputs": [],
   "source": [
    "x = np.array( [1,2,3,4.6] )"
   ]
  },
  {
   "cell_type": "code",
   "execution_count": 20,
   "id": "82cc81ac",
   "metadata": {},
   "outputs": [
    {
     "data": {
      "text/plain": [
       "array([1. , 2. , 3. , 4.6])"
      ]
     },
     "execution_count": 20,
     "metadata": {},
     "output_type": "execute_result"
    }
   ],
   "source": [
    "x"
   ]
  },
  {
   "cell_type": "code",
   "execution_count": 21,
   "id": "066c8ce6",
   "metadata": {},
   "outputs": [],
   "source": [
    "x = np.array(  [1,2,3,4.6], dtype = int )"
   ]
  },
  {
   "cell_type": "code",
   "execution_count": 22,
   "id": "8a193d8f",
   "metadata": {},
   "outputs": [
    {
     "data": {
      "text/plain": [
       "array([1, 2, 3, 4])"
      ]
     },
     "execution_count": 22,
     "metadata": {},
     "output_type": "execute_result"
    }
   ],
   "source": [
    "x"
   ]
  },
  {
   "cell_type": "code",
   "execution_count": 23,
   "id": "a5a45883",
   "metadata": {},
   "outputs": [],
   "source": [
    "x = np.array(  [1,2,3,4.6], dtype = \"str\")"
   ]
  },
  {
   "cell_type": "code",
   "execution_count": 24,
   "id": "052a9f4b",
   "metadata": {},
   "outputs": [
    {
     "data": {
      "text/plain": [
       "array(['1', '2', '3', '4.6'], dtype='<U3')"
      ]
     },
     "execution_count": 24,
     "metadata": {},
     "output_type": "execute_result"
    }
   ],
   "source": [
    "x"
   ]
  },
  {
   "cell_type": "code",
   "execution_count": 25,
   "id": "0a3cbe30",
   "metadata": {},
   "outputs": [
    {
     "ename": "ValueError",
     "evalue": "invalid literal for int() with base 10: 'a'",
     "output_type": "error",
     "traceback": [
      "\u001b[1;31m---------------------------------------------------------------------------\u001b[0m",
      "\u001b[1;31mValueError\u001b[0m                                Traceback (most recent call last)",
      "\u001b[1;32m<ipython-input-25-a9b1ebe6b31e>\u001b[0m in \u001b[0;36m<module>\u001b[1;34m\u001b[0m\n\u001b[1;32m----> 1\u001b[1;33m \u001b[0mx\u001b[0m \u001b[1;33m=\u001b[0m \u001b[0mnp\u001b[0m\u001b[1;33m.\u001b[0m\u001b[0marray\u001b[0m\u001b[1;33m(\u001b[0m \u001b[1;33m[\u001b[0m\u001b[1;34m\"a\"\u001b[0m\u001b[1;33m]\u001b[0m\u001b[1;33m,\u001b[0m \u001b[0mdtype\u001b[0m \u001b[1;33m=\u001b[0m \u001b[1;34m\"int32\"\u001b[0m\u001b[1;33m)\u001b[0m\u001b[1;33m\u001b[0m\u001b[1;33m\u001b[0m\u001b[0m\n\u001b[0m",
      "\u001b[1;31mValueError\u001b[0m: invalid literal for int() with base 10: 'a'"
     ]
    }
   ],
   "source": [
    "x = np.array( [\"a\"], dtype = \"int32\")"
   ]
  },
  {
   "cell_type": "code",
   "execution_count": 27,
   "id": "d5854689",
   "metadata": {},
   "outputs": [],
   "source": [
    "x = np.array( [\"5\"], dtype = \"int32\")"
   ]
  },
  {
   "cell_type": "code",
   "execution_count": 28,
   "id": "08afbf46",
   "metadata": {},
   "outputs": [
    {
     "data": {
      "text/plain": [
       "array([5])"
      ]
     },
     "execution_count": 28,
     "metadata": {},
     "output_type": "execute_result"
    }
   ],
   "source": [
    "x"
   ]
  },
  {
   "cell_type": "markdown",
   "id": "da338146",
   "metadata": {},
   "source": [
    "### Elemanları 0'lardan Oluşan Array Oluşturmak"
   ]
  },
  {
   "cell_type": "code",
   "execution_count": 2,
   "id": "e16553dd",
   "metadata": {},
   "outputs": [
    {
     "data": {
      "text/plain": [
       "array([0., 0., 0., 0., 0., 0., 0., 0., 0., 0.])"
      ]
     },
     "execution_count": 2,
     "metadata": {},
     "output_type": "execute_result"
    }
   ],
   "source": [
    "np.zeros(10)"
   ]
  },
  {
   "cell_type": "code",
   "execution_count": 4,
   "id": "0d92edbd",
   "metadata": {},
   "outputs": [
    {
     "data": {
      "text/plain": [
       "array(['', '', '', '', '', '', '', '', '', ''], dtype='<U1')"
      ]
     },
     "execution_count": 4,
     "metadata": {},
     "output_type": "execute_result"
    }
   ],
   "source": [
    "np.zeros( 10, dtype  = str )"
   ]
  },
  {
   "cell_type": "code",
   "execution_count": 6,
   "id": "3624ede2",
   "metadata": {},
   "outputs": [
    {
     "data": {
      "text/plain": [
       "array([0, 0, 0, 0, 0, 0, 0, 0, 0, 0])"
      ]
     },
     "execution_count": 6,
     "metadata": {},
     "output_type": "execute_result"
    }
   ],
   "source": [
    "np.zeros( 10, int )"
   ]
  },
  {
   "cell_type": "markdown",
   "id": "e8becf3c",
   "metadata": {},
   "source": [
    "### Elemanları 0'lardan Oluşan Multidimensional Array Oluşturmak"
   ]
  },
  {
   "cell_type": "code",
   "execution_count": 7,
   "id": "4953984c",
   "metadata": {},
   "outputs": [
    {
     "data": {
      "text/plain": [
       "array([[0., 0., 0., 0.],\n",
       "       [0., 0., 0., 0.],\n",
       "       [0., 0., 0., 0.]])"
      ]
     },
     "execution_count": 7,
     "metadata": {},
     "output_type": "execute_result"
    }
   ],
   "source": [
    "# 3 row(satır) ve 4 column(sütun)' u olan bir array oluşturalım.\n",
    "# boyutu tuple olarak veriyorum çünkü np.zeros(shape, datatype) bekliyor\n",
    "## ve virgülle ayırınca ona datatype verdiğimizi düşünüyor\n",
    "np.zeros( (3,4) )"
   ]
  },
  {
   "cell_type": "code",
   "execution_count": 8,
   "id": "da8de1f2",
   "metadata": {},
   "outputs": [
    {
     "ename": "TypeError",
     "evalue": "Cannot interpret '4' as a data type",
     "output_type": "error",
     "traceback": [
      "\u001b[1;31m---------------------------------------------------------------------------\u001b[0m",
      "\u001b[1;31mTypeError\u001b[0m                                 Traceback (most recent call last)",
      "\u001b[1;32m<ipython-input-8-f4e1d508c148>\u001b[0m in \u001b[0;36m<module>\u001b[1;34m\u001b[0m\n\u001b[1;32m----> 1\u001b[1;33m \u001b[0mnp\u001b[0m\u001b[1;33m.\u001b[0m\u001b[0mzeros\u001b[0m\u001b[1;33m(\u001b[0m\u001b[1;36m3\u001b[0m\u001b[1;33m,\u001b[0m\u001b[1;36m4\u001b[0m\u001b[1;33m)\u001b[0m\u001b[1;33m\u001b[0m\u001b[1;33m\u001b[0m\u001b[0m\n\u001b[0m",
      "\u001b[1;31mTypeError\u001b[0m: Cannot interpret '4' as a data type"
     ]
    }
   ],
   "source": [
    "np.zeros(3,4)"
   ]
  },
  {
   "cell_type": "code",
   "execution_count": 10,
   "id": "9f203197",
   "metadata": {},
   "outputs": [
    {
     "data": {
      "text/plain": [
       "array([[0., 0., 0., 0.],\n",
       "       [0., 0., 0., 0.],\n",
       "       [0., 0., 0., 0.]])"
      ]
     },
     "execution_count": 10,
     "metadata": {},
     "output_type": "execute_result"
    }
   ],
   "source": [
    "# tuple yerine list gibi de verebilirdim shape i\n",
    "np.zeros( [3,4] )"
   ]
  },
  {
   "cell_type": "code",
   "execution_count": 11,
   "id": "8885f313",
   "metadata": {},
   "outputs": [
    {
     "data": {
      "text/plain": [
       "array([[[0., 0., 0., 0., 0., 0., 0., 0.],\n",
       "        [0., 0., 0., 0., 0., 0., 0., 0.],\n",
       "        [0., 0., 0., 0., 0., 0., 0., 0.],\n",
       "        [0., 0., 0., 0., 0., 0., 0., 0.],\n",
       "        [0., 0., 0., 0., 0., 0., 0., 0.],\n",
       "        [0., 0., 0., 0., 0., 0., 0., 0.],\n",
       "        [0., 0., 0., 0., 0., 0., 0., 0.],\n",
       "        [0., 0., 0., 0., 0., 0., 0., 0.]],\n",
       "\n",
       "       [[0., 0., 0., 0., 0., 0., 0., 0.],\n",
       "        [0., 0., 0., 0., 0., 0., 0., 0.],\n",
       "        [0., 0., 0., 0., 0., 0., 0., 0.],\n",
       "        [0., 0., 0., 0., 0., 0., 0., 0.],\n",
       "        [0., 0., 0., 0., 0., 0., 0., 0.],\n",
       "        [0., 0., 0., 0., 0., 0., 0., 0.],\n",
       "        [0., 0., 0., 0., 0., 0., 0., 0.],\n",
       "        [0., 0., 0., 0., 0., 0., 0., 0.]],\n",
       "\n",
       "       [[0., 0., 0., 0., 0., 0., 0., 0.],\n",
       "        [0., 0., 0., 0., 0., 0., 0., 0.],\n",
       "        [0., 0., 0., 0., 0., 0., 0., 0.],\n",
       "        [0., 0., 0., 0., 0., 0., 0., 0.],\n",
       "        [0., 0., 0., 0., 0., 0., 0., 0.],\n",
       "        [0., 0., 0., 0., 0., 0., 0., 0.],\n",
       "        [0., 0., 0., 0., 0., 0., 0., 0.],\n",
       "        [0., 0., 0., 0., 0., 0., 0., 0.]]])"
      ]
     },
     "execution_count": 11,
     "metadata": {},
     "output_type": "execute_result"
    }
   ],
   "source": [
    "np.zeros( [3,8,8] )"
   ]
  },
  {
   "cell_type": "code",
   "execution_count": 13,
   "id": "3c9deaca",
   "metadata": {},
   "outputs": [
    {
     "data": {
      "text/plain": [
       "array([[0, 0]])"
      ]
     },
     "execution_count": 13,
     "metadata": {},
     "output_type": "execute_result"
    }
   ],
   "source": [
    "np.zeros( (1,2), dtype = int )"
   ]
  },
  {
   "cell_type": "code",
   "execution_count": 14,
   "id": "53a8ca80",
   "metadata": {},
   "outputs": [
    {
     "data": {
      "text/plain": [
       "array([[False, False, False],\n",
       "       [False, False, False]])"
      ]
     },
     "execution_count": 14,
     "metadata": {},
     "output_type": "execute_result"
    }
   ],
   "source": [
    "np.zeros( (2,3), dtype = bool )"
   ]
  },
  {
   "cell_type": "code",
   "execution_count": 18,
   "id": "81e56573",
   "metadata": {},
   "outputs": [],
   "source": [
    "a = np.zeros([2,2,2,3])"
   ]
  },
  {
   "cell_type": "code",
   "execution_count": 19,
   "id": "2be5814c",
   "metadata": {
    "scrolled": true
   },
   "outputs": [
    {
     "data": {
      "text/plain": [
       "(2, 2, 2, 3)"
      ]
     },
     "execution_count": 19,
     "metadata": {},
     "output_type": "execute_result"
    }
   ],
   "source": [
    "a.shape"
   ]
  },
  {
   "cell_type": "code",
   "execution_count": null,
   "id": "bdf509bf",
   "metadata": {},
   "outputs": [],
   "source": []
  }
 ],
 "metadata": {
  "kernelspec": {
   "display_name": "Python 3",
   "language": "python",
   "name": "python3"
  },
  "language_info": {
   "codemirror_mode": {
    "name": "ipython",
    "version": 3
   },
   "file_extension": ".py",
   "mimetype": "text/x-python",
   "name": "python",
   "nbconvert_exporter": "python",
   "pygments_lexer": "ipython3",
   "version": "3.8.8"
  }
 },
 "nbformat": 4,
 "nbformat_minor": 5
}
